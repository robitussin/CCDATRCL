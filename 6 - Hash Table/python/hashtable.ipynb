{
 "cells": [
  {
   "cell_type": "markdown",
   "metadata": {},
   "source": [
    "# Hash Table\n",
    "\n",
    "The Hash table data structure stores elements in key-value pairs where\n",
    "\n",
    "Key - unique integer that is used for indexing the values.\n",
    "\n",
    "Value - data that are associated with keys.\n",
    "\n",
    "\n",
    "<img src=\"keyvalue.webp\" />"
   ]
  },
  {
   "cell_type": "markdown",
   "metadata": {},
   "source": [
    "## Hashing (Hash Function)\n",
    "\n",
    "In a hash table, a new index is processed using the keys and the element corresponding to that key is stored in the index. This process is called **hashing**."
   ]
  },
  {
   "cell_type": "markdown",
   "metadata": {},
   "source": [
    "## Implementation\n",
    "\n",
    "In python, implementation of hashtables are known as a **dictionary**"
   ]
  },
  {
   "cell_type": "markdown",
   "metadata": {},
   "source": [
    "#### Creating a new dictionary"
   ]
  },
  {
   "cell_type": "code",
   "execution_count": 332,
   "metadata": {},
   "outputs": [
    {
     "name": "stdout",
     "output_type": "stream",
     "text": [
      "{'001': 'My Love', '002': 'If I let you go', 'year': 'Swear It Again'}\n"
     ]
    }
   ],
   "source": [
    "mydictionary = {\n",
    "  \"001\": \"My Love\",\n",
    "  \"002\": \"If I let you go\",\n",
    "  \"year\": \"Swear It Again\"\n",
    "}\n",
    "print(mydictionary)"
   ]
  },
  {
   "cell_type": "markdown",
   "metadata": {},
   "source": [
    "Using the `dict()` constructor"
   ]
  },
  {
   "cell_type": "code",
   "execution_count": 333,
   "metadata": {},
   "outputs": [
    {
     "name": "stdout",
     "output_type": "stream",
     "text": [
      "{'id001': 'My Love', 'id002': 'If I let you go', 'id003': 'Swear It Again'}\n"
     ]
    }
   ],
   "source": [
    "mydictionary = dict(id001 = \"My Love\", id002 = \"If I let you go\", id003 = \"Swear It Again\")\n",
    "print(mydictionary)"
   ]
  },
  {
   "cell_type": "code",
   "execution_count": 334,
   "metadata": {},
   "outputs": [],
   "source": [
    "#### Accessing an element in a dictionary"
   ]
  },
  {
   "cell_type": "code",
   "execution_count": 335,
   "metadata": {},
   "outputs": [
    {
     "name": "stdout",
     "output_type": "stream",
     "text": [
      "My Love\n"
     ]
    }
   ],
   "source": [
    "print(mydictionary[\"id001\"])"
   ]
  },
  {
   "cell_type": "code",
   "execution_count": 336,
   "metadata": {},
   "outputs": [
    {
     "data": {
      "text/plain": [
       "'My Love'"
      ]
     },
     "execution_count": 336,
     "metadata": {},
     "output_type": "execute_result"
    }
   ],
   "source": [
    "song = mydictionary.get(\"id001\")\n",
    "song"
   ]
  },
  {
   "cell_type": "markdown",
   "metadata": {},
   "source": [
    "#### Retrieve all keys in a dictionary"
   ]
  },
  {
   "cell_type": "code",
   "execution_count": 337,
   "metadata": {},
   "outputs": [
    {
     "data": {
      "text/plain": [
       "dict_keys(['id001', 'id002', 'id003'])"
      ]
     },
     "execution_count": 337,
     "metadata": {},
     "output_type": "execute_result"
    }
   ],
   "source": [
    "x = mydictionary.keys()\n",
    "x"
   ]
  },
  {
   "cell_type": "markdown",
   "metadata": {},
   "source": [
    "#### Updating items in a dictionary"
   ]
  },
  {
   "cell_type": "code",
   "execution_count": 338,
   "metadata": {},
   "outputs": [
    {
     "data": {
      "text/plain": [
       "{'id001': 'Mandy', 'id002': 'If I let you go', 'id003': 'Swear It Again'}"
      ]
     },
     "execution_count": 338,
     "metadata": {},
     "output_type": "execute_result"
    }
   ],
   "source": [
    "mydictionary[\"id001\"] = \"Mandy\"\n",
    "mydictionary"
   ]
  },
  {
   "cell_type": "markdown",
   "metadata": {},
   "source": [
    "Using the `update()` function"
   ]
  },
  {
   "cell_type": "code",
   "execution_count": 339,
   "metadata": {},
   "outputs": [
    {
     "data": {
      "text/plain": [
       "{'id001': 'Uptown Girl', 'id002': 'If I let you go', 'id003': 'Swear It Again'}"
      ]
     },
     "execution_count": 339,
     "metadata": {},
     "output_type": "execute_result"
    }
   ],
   "source": [
    "mydictionary.update({\"id001\": \"Uptown Girl\"})\n",
    "mydictionary"
   ]
  },
  {
   "cell_type": "markdown",
   "metadata": {},
   "source": [
    "#### Add items in a dictionary"
   ]
  },
  {
   "cell_type": "code",
   "execution_count": 340,
   "metadata": {},
   "outputs": [
    {
     "data": {
      "text/plain": [
       "{'id001': 'Uptown Girl',\n",
       " 'id002': 'If I let you go',\n",
       " 'id003': 'Swear It Again',\n",
       " 'id004': 'Flying without wings'}"
      ]
     },
     "execution_count": 340,
     "metadata": {},
     "output_type": "execute_result"
    }
   ],
   "source": [
    "mydictionary[\"id004\"] = \"Flying without wings\"\n",
    "mydictionary"
   ]
  },
  {
   "cell_type": "markdown",
   "metadata": {},
   "source": [
    "Using the `.update()` function"
   ]
  },
  {
   "cell_type": "code",
   "execution_count": 341,
   "metadata": {},
   "outputs": [
    {
     "data": {
      "text/plain": [
       "{'id001': 'Uptown Girl',\n",
       " 'id002': 'If I let you go',\n",
       " 'id003': 'Swear It Again',\n",
       " 'id004': 'Flying without wings',\n",
       " 'id005': 'Careless Whisper'}"
      ]
     },
     "execution_count": 341,
     "metadata": {},
     "output_type": "execute_result"
    }
   ],
   "source": [
    "mydictionary.update({\"id005\": \"Careless Whisper\"})\n",
    "mydictionary"
   ]
  },
  {
   "cell_type": "markdown",
   "metadata": {},
   "source": [
    "#### Remove an item using the `.pop()` function"
   ]
  },
  {
   "cell_type": "code",
   "execution_count": 342,
   "metadata": {},
   "outputs": [
    {
     "data": {
      "text/plain": [
       "{'id002': 'If I let you go',\n",
       " 'id003': 'Swear It Again',\n",
       " 'id004': 'Flying without wings',\n",
       " 'id005': 'Careless Whisper'}"
      ]
     },
     "execution_count": 342,
     "metadata": {},
     "output_type": "execute_result"
    }
   ],
   "source": [
    "mydictionary.pop(\"id001\")\n",
    "mydictionary"
   ]
  },
  {
   "cell_type": "markdown",
   "metadata": {},
   "source": [
    "#### Loop through a dictionary"
   ]
  },
  {
   "cell_type": "markdown",
   "metadata": {},
   "source": [
    "Loop through keys"
   ]
  },
  {
   "cell_type": "code",
   "execution_count": 343,
   "metadata": {},
   "outputs": [
    {
     "name": "stdout",
     "output_type": "stream",
     "text": [
      "id002\n",
      "id003\n",
      "id004\n",
      "id005\n"
     ]
    }
   ],
   "source": [
    "for i in mydictionary:\n",
    "  print(i)"
   ]
  },
  {
   "cell_type": "markdown",
   "metadata": {},
   "source": [
    "Loop through data using the `.values()` function"
   ]
  },
  {
   "cell_type": "code",
   "execution_count": 344,
   "metadata": {},
   "outputs": [
    {
     "name": "stdout",
     "output_type": "stream",
     "text": [
      "If I let you go\n",
      "Swear It Again\n",
      "Flying without wings\n",
      "Careless Whisper\n"
     ]
    }
   ],
   "source": [
    "for i in mydictionary.values():\n",
    "  print(i)\n"
   ]
  },
  {
   "cell_type": "code",
   "execution_count": 345,
   "metadata": {},
   "outputs": [
    {
     "name": "stdout",
     "output_type": "stream",
     "text": [
      "id002 If I let you go\n",
      "id003 Swear It Again\n",
      "id004 Flying without wings\n",
      "id005 Careless Whisper\n"
     ]
    }
   ],
   "source": [
    "for x, y in mydictionary.items():\n",
    "  print(x, y)"
   ]
  },
  {
   "cell_type": "markdown",
   "metadata": {},
   "source": [
    "## Copying a dictionary"
   ]
  },
  {
   "cell_type": "code",
   "execution_count": 346,
   "metadata": {},
   "outputs": [
    {
     "data": {
      "text/plain": [
       "{'id002': 'If I let you go',\n",
       " 'id003': 'Swear It Again',\n",
       " 'id004': 'Flying without wings',\n",
       " 'id005': 'Careless Whisper'}"
      ]
     },
     "execution_count": 346,
     "metadata": {},
     "output_type": "execute_result"
    }
   ],
   "source": [
    "newdictionary = mydictionary.copy()\n",
    "newdictionary"
   ]
  },
  {
   "cell_type": "markdown",
   "metadata": {},
   "source": [
    "## Nested Dictionary"
   ]
  },
  {
   "cell_type": "code",
   "execution_count": 347,
   "metadata": {},
   "outputs": [
    {
     "data": {
      "text/plain": [
       "{'RnB': {'001': 'Get you', '002': 'Mad'},\n",
       " 'Rock': {'001': 'New Perspective', '002': 'Enter Sandman'},\n",
       " 'Rap': {'001': 'Gento', '002': 'City Girl'}}"
      ]
     },
     "execution_count": 347,
     "metadata": {},
     "output_type": "execute_result"
    }
   ],
   "source": [
    "mydictionary = {\n",
    "  \"RnB\" : {\n",
    "    \"001\" : \"Get you\",\n",
    "    \"002\" : \"Mad\"\n",
    "  },\n",
    "  \"Rock\" : {\n",
    "    \"001\" : \"New Perspective\",\n",
    "    \"002\" : \"Enter Sandman\"\n",
    "  },\n",
    "  \"Rap\" : {\n",
    "    \"001\" : \"Gento\",\n",
    "    \"002\" : \"City Girl\"\n",
    "  }\n",
    "}\n",
    "\n",
    "mydictionary"
   ]
  },
  {
   "cell_type": "code",
   "execution_count": null,
   "metadata": {},
   "outputs": [],
   "source": [
    "print(mydictionary[\"Rap\"][\"001\"])"
   ]
  }
 ],
 "metadata": {
  "kernelspec": {
   "display_name": "Python 3",
   "language": "python",
   "name": "python3"
  },
  "language_info": {
   "codemirror_mode": {
    "name": "ipython",
    "version": 3
   },
   "file_extension": ".py",
   "mimetype": "text/x-python",
   "name": "python",
   "nbconvert_exporter": "python",
   "pygments_lexer": "ipython3",
   "version": "3.11.4"
  },
  "orig_nbformat": 4
 },
 "nbformat": 4,
 "nbformat_minor": 2
}
