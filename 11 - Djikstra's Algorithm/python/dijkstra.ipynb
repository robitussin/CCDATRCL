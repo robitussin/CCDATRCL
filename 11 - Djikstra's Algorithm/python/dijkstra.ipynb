{
 "cells": [
  {
   "cell_type": "markdown",
   "metadata": {},
   "source": [
    "# Dijkstra’s Algorithm"
   ]
  },
  {
   "cell_type": "markdown",
   "metadata": {},
   "source": [
    "Dijkstra's Algorithm works on the basis that any subpath `B -> D` of the shortest path `A -> D` between vertices A and D is also the shortest path between vertices B and D."
   ]
  },
  {
   "cell_type": "markdown",
   "metadata": {},
   "source": [
    "## Implementation"
   ]
  },
  {
   "cell_type": "code",
   "execution_count": 13,
   "metadata": {},
   "outputs": [],
   "source": [
    "class Graph():\n",
    "\n",
    "\tdef __init__(self, vertices):\n",
    "\t\tself.V = vertices\n",
    "\t\tself.graph = [[0 for column in range(vertices)]\n",
    "\t\t\t\t\tfor row in range(vertices)]\n",
    "\n",
    "\tdef printSolution(self, dist):\n",
    "\t\tprint(\"Vertex \\t Distance from Source\")\n",
    "\t\tfor node in range(self.V):\n",
    "\t\t\tprint(node, \"\\t\\t\", dist[node])\n",
    "\n",
    "\t# A utility function to find the vertex with\n",
    "\t# minimum distance value, from the set of vertices\n",
    "\t# not yet included in shortest path tree\n",
    "\tdef minDistance(self, dist, sptSet):\n",
    "\n",
    "\t\t# Initialize minimum distance for next node\n",
    "\t\tmin = 1e7\n",
    "\n",
    "\t\t# Search not nearest vertex not in the\n",
    "\t\t# shortest path tree\n",
    "\t\tfor v in range(self.V):\n",
    "\t\t\tif dist[v] < min and sptSet[v] == False:\n",
    "\t\t\t\tmin = dist[v]\n",
    "\t\t\t\tmin_index = v\n",
    "\n",
    "\t\treturn min_index\n",
    "\n",
    "\t# Function that implements Dijkstra's single source\n",
    "\t# shortest path algorithm for a graph represented\n",
    "\t# using adjacency matrix representation\n",
    "\tdef dijkstra(self, src):\n",
    "\n",
    "\t\tdist = [1e7] * self.V\n",
    "\t\tdist[src] = 0\n",
    "\t\tsptSet = [False] * self.V\n",
    "\n",
    "\t\tfor cout in range(self.V):\n",
    "\n",
    "\t\t\t# Pick the minimum distance vertex from\n",
    "\t\t\t# the set of vertices not yet processed.\n",
    "\t\t\t# u is always equal to src in first iteration\n",
    "\t\t\tu = self.minDistance(dist, sptSet)\n",
    "\n",
    "\t\t\t# Put the minimum distance vertex in the\n",
    "\t\t\t# shortest path tree\n",
    "\t\t\tsptSet[u] = True\n",
    "\n",
    "\t\t\t# Update dist value of the adjacent vertices\n",
    "\t\t\t# of the picked vertex only if the current\n",
    "\t\t\t# distance is greater than new distance and\n",
    "\t\t\t# the vertex in not in the shortest path tree\n",
    "\t\t\tfor v in range(self.V):\n",
    "\t\t\t\tif (self.graph[u][v] > 0 and\n",
    "\t\t\t\tsptSet[v] == False and\n",
    "\t\t\t\tdist[v] > dist[u] + self.graph[u][v]):\n",
    "\t\t\t\t\tdist[v] = dist[u] + self.graph[u][v]\n",
    "\n",
    "\t\tself.printSolution(dist)"
   ]
  },
  {
   "cell_type": "markdown",
   "metadata": {},
   "source": [
    "#### Step 1: Set number of vertices"
   ]
  },
  {
   "cell_type": "code",
   "execution_count": 14,
   "metadata": {},
   "outputs": [],
   "source": [
    "g = Graph(7)"
   ]
  },
  {
   "cell_type": "markdown",
   "metadata": {},
   "source": [
    "#### Step 2: Build the graph using adjacency matrix"
   ]
  },
  {
   "cell_type": "code",
   "execution_count": 15,
   "metadata": {},
   "outputs": [],
   "source": [
    "# g.graph = [[0, 4, 0, 0, 0, 0, 0, 8, 0],\n",
    "# \t\t[4, 0, 8, 0, 0, 0, 0, 11, 0],\n",
    "# \t\t[0, 8, 0, 7, 0, 4, 0, 0, 2],\n",
    "# \t\t[0, 0, 7, 0, 9, 14, 0, 0, 0],\n",
    "# \t\t[0, 0, 0, 9, 0, 10, 0, 0, 0],\n",
    "# \t\t[0, 0, 4, 14, 10, 0, 2, 0, 0],\n",
    "# \t\t[0, 0, 0, 0, 0, 2, 0, 1, 6],\n",
    "# \t\t[8, 11, 0, 0, 0, 0, 1, 0, 7],\n",
    "# \t\t[0, 0, 2, 0, 0, 0, 6, 7, 0]\n",
    "# \t\t]"
   ]
  },
  {
   "cell_type": "code",
   "execution_count": 16,
   "metadata": {},
   "outputs": [],
   "source": [
    "g.graph = [ \n",
    "        [ 0, 4, 10, 0, 0, 0, 0] ,\n",
    "         [4, 0, 2, 0, 0, 21, 0] ,\n",
    "         [10, 2, 0, 5, 8, 0, 0] ,\n",
    "         [0, 0, 5, 0, 0, 5, 0] ,\n",
    "         [0, 0, 8, 0, 0, 12, 0] ,\n",
    "         [0, 21, 0, 5, 12, 0, 4] ,\n",
    "         [0, 0, 0, 0, 0, 4, 0] ] "
   ]
  },
  {
   "cell_type": "markdown",
   "metadata": {},
   "source": [
    "#### Step 4: Run Dijkstra's algorithm"
   ]
  },
  {
   "cell_type": "code",
   "execution_count": 17,
   "metadata": {},
   "outputs": [
    {
     "name": "stdout",
     "output_type": "stream",
     "text": [
      "Vertex \t Distance from Source\n",
      "0 \t\t 0\n",
      "1 \t\t 4\n",
      "2 \t\t 6\n",
      "3 \t\t 11\n",
      "4 \t\t 14\n",
      "5 \t\t 16\n",
      "6 \t\t 20\n"
     ]
    }
   ],
   "source": [
    "g.dijkstra(0)"
   ]
  }
 ],
 "metadata": {
  "kernelspec": {
   "display_name": "Python 3",
   "language": "python",
   "name": "python3"
  },
  "language_info": {
   "codemirror_mode": {
    "name": "ipython",
    "version": 3
   },
   "file_extension": ".py",
   "mimetype": "text/x-python",
   "name": "python",
   "nbconvert_exporter": "python",
   "pygments_lexer": "ipython3",
   "version": "3.11.4"
  }
 },
 "nbformat": 4,
 "nbformat_minor": 2
}
