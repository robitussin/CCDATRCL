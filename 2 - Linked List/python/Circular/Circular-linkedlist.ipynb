{
 "cells": [
  {
   "cell_type": "markdown",
   "metadata": {},
   "source": [
    "# Circular Linked list"
   ]
  },
  {
   "cell_type": "markdown",
   "metadata": {},
   "source": [
    "A circular linked list is a type of linked list in which the first and the last nodes are also connected to each other to form a circle."
   ]
  },
  {
   "cell_type": "markdown",
   "metadata": {},
   "source": [
    "<img src=\"circular-linked-list.png\" />"
   ]
  },
  {
   "cell_type": "markdown",
   "metadata": {},
   "source": [
    "## Simple Implementation"
   ]
  },
  {
   "cell_type": "markdown",
   "metadata": {},
   "source": [
    "### Step 1: Create a **Node** class"
   ]
  },
  {
   "cell_type": "code",
   "execution_count": 7,
   "metadata": {},
   "outputs": [],
   "source": [
    "class Node:\n",
    "    def __init__(self, data):\n",
    "        self.data = data\n",
    "        self.next = None"
   ]
  },
  {
   "cell_type": "markdown",
   "metadata": {},
   "source": [
    "### Step 2: Create a **CircularLinkedList** class"
   ]
  },
  {
   "cell_type": "code",
   "execution_count": 8,
   "metadata": {},
   "outputs": [],
   "source": [
    "class CircularLinkedList:\n",
    "\n",
    "    def __init__(self):\n",
    "        self.head = None\n",
    "\n",
    "    def traverse(self, node):\n",
    "        \n",
    "        head = node\n",
    "        \n",
    "        while node:\n",
    "            print(node.data, end=\" -> \")\n",
    "            node = node.next\n",
    "            \n",
    "            # Break to prevent infinite loop\n",
    "            if node == head:\n",
    "                break"
   ]
  },
  {
   "cell_type": "markdown",
   "metadata": {},
   "source": [
    "### Step 3: Create a new instance of the  **CircularLinkedList** class"
   ]
  },
  {
   "cell_type": "code",
   "execution_count": 9,
   "metadata": {},
   "outputs": [],
   "source": [
    "circular_linked_list = CircularLinkedList()"
   ]
  },
  {
   "cell_type": "markdown",
   "metadata": {},
   "source": [
    "### Step 4: Create each Node"
   ]
  },
  {
   "cell_type": "code",
   "execution_count": 10,
   "metadata": {},
   "outputs": [],
   "source": [
    "circular_linked_list.head = Node(1)\n",
    "node_b = Node(2)\n",
    "node_c = Node(3)"
   ]
  },
  {
   "cell_type": "markdown",
   "metadata": {},
   "source": [
    "### Step 5: Connect each Node"
   ]
  },
  {
   "cell_type": "code",
   "execution_count": 11,
   "metadata": {},
   "outputs": [],
   "source": [
    "circular_linked_list.head.next = node_b\n",
    "node_b.next = node_c\n",
    "node_c.next = circular_linked_list.head"
   ]
  },
  {
   "cell_type": "code",
   "execution_count": 12,
   "metadata": {},
   "outputs": [
    {
     "name": "stdout",
     "output_type": "stream",
     "text": [
      "value of head is : 1\n",
      "value of next to head is : 2\n",
      "---\n",
      "value of node_b is : 2\n",
      "value of next of node_b is : 3\n",
      "---\n",
      "value of node_c is : 3\n",
      "value of next of node_c is : 1\n"
     ]
    }
   ],
   "source": [
    "# Print value of each node\n",
    "print(\"value of head is :\", circular_linked_list.head.data)\n",
    "print(\"value of next to head is :\", circular_linked_list.head.next.data)\n",
    "\n",
    "print(\"---\")\n",
    "\n",
    "print(\"value of node_b is :\", node_b.data)\n",
    "print(\"value of next of node_b is :\", node_b.next.data)\n",
    "\n",
    "print(\"---\")\n",
    "\n",
    "print(\"value of node_c is :\", node_c.data)\n",
    "print(\"value of next of node_c is :\", node_c.next.data)\n"
   ]
  },
  {
   "cell_type": "code",
   "execution_count": 13,
   "metadata": {},
   "outputs": [
    {
     "name": "stdout",
     "output_type": "stream",
     "text": [
      "1 -> 2 -> 3 -> "
     ]
    }
   ],
   "source": [
    "circular_linked_list.traverse(circular_linked_list.head)"
   ]
  },
  {
   "cell_type": "markdown",
   "metadata": {},
   "source": [
    "<img src=\"circular-linked-list-example.png\" />"
   ]
  }
 ],
 "metadata": {
  "kernelspec": {
   "display_name": "Python 3",
   "language": "python",
   "name": "python3"
  },
  "language_info": {
   "codemirror_mode": {
    "name": "ipython",
    "version": 3
   },
   "file_extension": ".py",
   "mimetype": "text/x-python",
   "name": "python",
   "nbconvert_exporter": "python",
   "pygments_lexer": "ipython3",
   "version": "3.11.4"
  },
  "orig_nbformat": 4
 },
 "nbformat": 4,
 "nbformat_minor": 2
}
