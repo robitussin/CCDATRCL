{
 "cells": [
  {
   "cell_type": "markdown",
   "metadata": {},
   "source": [
    "# Circular Linked list Operations"
   ]
  },
  {
   "cell_type": "markdown",
   "metadata": {},
   "source": [
    "## Implementation"
   ]
  },
  {
   "cell_type": "code",
   "execution_count": 97,
   "metadata": {},
   "outputs": [],
   "source": [
    "class Node:\n",
    "    def __init__(self, data):\n",
    "        self.data = data\n",
    "        self.next = None"
   ]
  },
  {
   "cell_type": "code",
   "execution_count": 98,
   "metadata": {},
   "outputs": [],
   "source": [
    "class CircularLinkedList:\n",
    "    def __init__(self):\n",
    "        self.last = None\n",
    "\n",
    "    def addToEmpty(self, data):\n",
    "\n",
    "        if self.last != None:\n",
    "            return self.last\n",
    "\n",
    "        # allocate memory to the new node and add data to the node\n",
    "        newNode = Node(data)\n",
    "\n",
    "        # assign last to newNode\n",
    "        self.last = newNode\n",
    "\n",
    "        # create link to iteself\n",
    "        self.last.next = self.last\n",
    "        return self.last\n",
    "\n",
    "    # add node to the front\n",
    "    def addFront(self, data):\n",
    "\n",
    "        # check if the list is empty\n",
    "        if self.last == None:\n",
    "            return self.addToEmpty(data)\n",
    "\n",
    "        # allocate memory to the new node and add data to the node\n",
    "        newNode = Node(data)\n",
    "\n",
    "        # store the address of the current first node in the newNode\n",
    "        newNode.next = self.last.next\n",
    "\n",
    "        # make newNode as last\n",
    "        self.last.next = newNode\n",
    "\n",
    "        return self.last\n",
    "\n",
    "    # add node to the end\n",
    "    def addEnd(self, data):\n",
    "        # check if the node is empty\n",
    "        if self.last == None:\n",
    "            return self.addToEmpty(data)\n",
    "\n",
    "        # allocate memory to the new node and add data to the node\n",
    "        newNode = Node(data)\n",
    "\n",
    "        # store the address of the last node to next of newNode\n",
    "        newNode.next = self.last.next\n",
    "\n",
    "        # point the current last node to the newNode\n",
    "        self.last.next = newNode\n",
    "\n",
    "        # make newNode as the last node\n",
    "        self.last = newNode\n",
    "\n",
    "        return self.last\n",
    "\n",
    "    # insert node after a specific node\n",
    "    def addAfter(self, data, item):\n",
    "\n",
    "        # check if the list is empty\n",
    "        if self.last == None:\n",
    "            return None\n",
    "\n",
    "        newNode = Node(data)\n",
    "        p = self.last.next\n",
    "        while p:\n",
    "\n",
    "            # if the item is found, place newNode after it\n",
    "            if p.data == item:\n",
    "\n",
    "                # make the next of the current node as the next of newNode\n",
    "                newNode.next = p.next\n",
    "\n",
    "                # put newNode to the next of p\n",
    "                p.next = newNode\n",
    "\n",
    "                if p == self.last:\n",
    "                    self.last = newNode\n",
    "                    return self.last\n",
    "                else:\n",
    "                    return self.last\n",
    "            p = p.next\n",
    "            if p == self.last.next:\n",
    "                print(item, \"The given node is not present in the list\")\n",
    "                break\n",
    "\n",
    "    # delete a node\n",
    "    def deleteNode(self, last, key):\n",
    "\n",
    "        # If linked list is empty\n",
    "        if last == None:\n",
    "            return\n",
    "\n",
    "        # If the list contains only a single node\n",
    "        if (last).data == key and (last).next == last:\n",
    "\n",
    "            last = None\n",
    "\n",
    "        temp = last\n",
    "        d = None\n",
    "\n",
    "        # if last node is to be deleted\n",
    "        if (last).data == key:\n",
    "\n",
    "            # find the node before the last node\n",
    "            while temp.next != last:\n",
    "                temp = temp.next\n",
    "\n",
    "            # point temp node to the next of last i.e. first node\n",
    "            temp.next = (last).next\n",
    "            last = temp.next\n",
    "\n",
    "        # travel to the node to be deleted\n",
    "        while temp.next != last and temp.next.data != key:\n",
    "            temp = temp.next\n",
    "\n",
    "        # if node to be deleted was found\n",
    "        if temp.next.data == key:\n",
    "            d = temp.next\n",
    "            temp.next = d.next\n",
    "\n",
    "        return last\n",
    "\n",
    "    def traverse(self):\n",
    "        if self.last == None:\n",
    "            print(\"The list is empty\")\n",
    "            return\n",
    "\n",
    "        newNode = self.last.next\n",
    "        while newNode:\n",
    "            print(newNode.data, end=\" -> \")\n",
    "            newNode = newNode.next\n",
    "            if newNode == self.last.next:\n",
    "                break"
   ]
  },
  {
   "cell_type": "code",
   "execution_count": 99,
   "metadata": {},
   "outputs": [
    {
     "name": "stdout",
     "output_type": "stream",
     "text": [
      "1 -> 2 -> 3 -> "
     ]
    }
   ],
   "source": [
    "# Initialize circular linked list\n",
    "cll = CircularLinkedList()\n",
    "\n",
    "cll.addToEmpty(3)\n",
    "cll.addFront(2)\n",
    "cll.addFront(1)\n",
    "\n",
    "cll.traverse()"
   ]
  },
  {
   "cell_type": "markdown",
   "metadata": {},
   "source": [
    "<img src=\"circular-linked-list-example.png\"/>"
   ]
  },
  {
   "cell_type": "markdown",
   "metadata": {},
   "source": [
    "## 1. Insert"
   ]
  },
  {
   "cell_type": "markdown",
   "metadata": {},
   "source": [
    "#### Insert elements at the front"
   ]
  },
  {
   "cell_type": "markdown",
   "metadata": {},
   "source": [
    "1. Store the address of the current first node in the newNode (i.e. pointing the newNode to the current first node)\n",
    "2. Point the last node to newNode (i.e making newNode as head)"
   ]
  },
  {
   "cell_type": "code",
   "execution_count": 100,
   "metadata": {},
   "outputs": [
    {
     "name": "stdout",
     "output_type": "stream",
     "text": [
      "6 -> 1 -> 2 -> 3 -> "
     ]
    }
   ],
   "source": [
    "cll.addFront(6)\n",
    "\n",
    "cll.traverse()\n"
   ]
  },
  {
   "cell_type": "markdown",
   "metadata": {},
   "source": [
    "<img src=\"cll-insertion-beginning.png\"/>"
   ]
  },
  {
   "cell_type": "markdown",
   "metadata": {},
   "source": [
    "#### Insert elements in between nodes"
   ]
  },
  {
   "cell_type": "markdown",
   "metadata": {},
   "source": [
    "1. Travel to the node given **(let this node be p)**\n",
    "2. Point the next of **newNode** to the node next to **p**\n",
    "3. Store the address of **newNode** at next of **p**"
   ]
  },
  {
   "cell_type": "code",
   "execution_count": 101,
   "metadata": {},
   "outputs": [
    {
     "name": "stdout",
     "output_type": "stream",
     "text": [
      "1 -> 2 -> 3 -> "
     ]
    }
   ],
   "source": [
    "# Initialize circular linked list\n",
    "cll = CircularLinkedList()\n",
    "\n",
    "cll.addToEmpty(3)\n",
    "cll.addFront(2)\n",
    "cll.addFront(1)\n",
    "cll.traverse()\n"
   ]
  },
  {
   "cell_type": "code",
   "execution_count": 102,
   "metadata": {},
   "outputs": [
    {
     "name": "stdout",
     "output_type": "stream",
     "text": [
      "1 -> 6 -> 2 -> 3 -> "
     ]
    }
   ],
   "source": [
    "cll.addAfter(6, 1)\n",
    "cll.traverse()\n"
   ]
  },
  {
   "cell_type": "markdown",
   "metadata": {},
   "source": [
    "<img src=\"cll-insertion-after.png\"/>"
   ]
  },
  {
   "cell_type": "markdown",
   "metadata": {},
   "source": [
    "#### Insert elements at the end"
   ]
  },
  {
   "cell_type": "markdown",
   "metadata": {},
   "source": [
    "1. Store the address of the head node to next of **newNode** (making newNode the last node)\n",
    "2. Point the current last node to **newNode**\n",
    "3. Make **newNode** as the **last node**\n"
   ]
  },
  {
   "cell_type": "code",
   "execution_count": 103,
   "metadata": {},
   "outputs": [
    {
     "name": "stdout",
     "output_type": "stream",
     "text": [
      "1 -> 2 -> 3 -> "
     ]
    }
   ],
   "source": [
    "# Re-initialize circular linked list\n",
    "cll = CircularLinkedList()\n",
    "\n",
    "cll.addToEmpty(3)\n",
    "cll.addFront(2)\n",
    "cll.addFront(1)\n",
    "cll.traverse()\n"
   ]
  },
  {
   "cell_type": "code",
   "execution_count": 104,
   "metadata": {},
   "outputs": [
    {
     "name": "stdout",
     "output_type": "stream",
     "text": [
      "1 -> 2 -> 3 -> 6 -> "
     ]
    }
   ],
   "source": [
    "cll.addEnd(6)\n",
    "cll.traverse()"
   ]
  },
  {
   "cell_type": "markdown",
   "metadata": {},
   "source": [
    "<img src=\"cll-insertion-end.png\"/>"
   ]
  },
  {
   "cell_type": "markdown",
   "metadata": {},
   "source": [
    "## 2. Delete"
   ]
  },
  {
   "cell_type": "code",
   "execution_count": 105,
   "metadata": {},
   "outputs": [
    {
     "name": "stdout",
     "output_type": "stream",
     "text": [
      "1 -> 2 -> 3 -> "
     ]
    }
   ],
   "source": [
    "# Re-initialize circular linked list\n",
    "cll = CircularLinkedList()\n",
    "\n",
    "cll.addToEmpty(3)\n",
    "cll.addFront(2)\n",
    "last = cll.addFront(1)\n",
    "cll.traverse()\n"
   ]
  },
  {
   "cell_type": "markdown",
   "metadata": {},
   "source": [
    "#### Delete an element at the end"
   ]
  },
  {
   "cell_type": "markdown",
   "metadata": {},
   "source": [
    "1. Find the node before the last node (let it be temp)\n",
    "2. Store the address of the node next to the last node in temp\n",
    "3. Free the memory of last\n",
    "4. Make temp as the last node"
   ]
  },
  {
   "cell_type": "code",
   "execution_count": 106,
   "metadata": {},
   "outputs": [
    {
     "name": "stdout",
     "output_type": "stream",
     "text": [
      "1 -> 2 -> "
     ]
    }
   ],
   "source": [
    "cll.deleteNode(last, 3)\n",
    "cll.traverse()"
   ]
  },
  {
   "cell_type": "markdown",
   "metadata": {},
   "source": [
    "<img src=\"cll-deletion-last.png\"/>"
   ]
  },
  {
   "cell_type": "markdown",
   "metadata": {},
   "source": [
    "#### Delete an specific element on any position"
   ]
  },
  {
   "cell_type": "code",
   "execution_count": 107,
   "metadata": {},
   "outputs": [
    {
     "name": "stdout",
     "output_type": "stream",
     "text": [
      "1 -> 2 -> 3 -> "
     ]
    }
   ],
   "source": [
    "# Re-initialize circular linked list\n",
    "cll = CircularLinkedList()\n",
    "\n",
    "cll.addToEmpty(3)\n",
    "cll.addFront(2)\n",
    "last = cll.addFront(1)\n",
    "cll.traverse()"
   ]
  },
  {
   "cell_type": "markdown",
   "metadata": {},
   "source": [
    "1. travel to the node to be deleted (here we are deleting node 2)\n",
    "2. Let the node before node 2 be temp\n",
    "3. Store the address of the node next to 2 in temp\n",
    "4. Free the memory of 2"
   ]
  },
  {
   "cell_type": "code",
   "execution_count": 108,
   "metadata": {},
   "outputs": [
    {
     "name": "stdout",
     "output_type": "stream",
     "text": [
      "1 -> 3 -> "
     ]
    }
   ],
   "source": [
    "cll.deleteNode(last, 2)\n",
    "cll.traverse()\n"
   ]
  },
  {
   "cell_type": "markdown",
   "metadata": {},
   "source": [
    "<img src=\"cll-deletion-after.png\"/>"
   ]
  },
  {
   "cell_type": "markdown",
   "metadata": {},
   "source": [
    "# Circular Linked list Complexity"
   ]
  },
  {
   "cell_type": "markdown",
   "metadata": {},
   "source": [
    "| Operation | Time Complexity | \n",
    "| --- | --- | \n",
    "| Insert | $O(1)$ or $O(n)$  | \n",
    "| Delete | $O(1)$ | "
   ]
  }
 ],
 "metadata": {
  "kernelspec": {
   "display_name": "Python 3",
   "language": "python",
   "name": "python3"
  },
  "language_info": {
   "codemirror_mode": {
    "name": "ipython",
    "version": 3
   },
   "file_extension": ".py",
   "mimetype": "text/x-python",
   "name": "python",
   "nbconvert_exporter": "python",
   "pygments_lexer": "ipython3",
   "version": "3.9.13"
  },
  "orig_nbformat": 4
 },
 "nbformat": 4,
 "nbformat_minor": 2
}
