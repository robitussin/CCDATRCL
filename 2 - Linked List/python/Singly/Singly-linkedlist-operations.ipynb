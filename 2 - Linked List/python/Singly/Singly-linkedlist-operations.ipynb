{
 "cells": [
  {
   "cell_type": "markdown",
   "metadata": {},
   "source": [
    "# Linked list Operations"
   ]
  },
  {
   "cell_type": "markdown",
   "metadata": {},
   "source": [
    "1. Traversal - access each element of the linked list\n",
    "2. Insertion - adds a new element to the linked list\n",
    "3. Deletion - removes the existing elements\n",
    "4. Search - find a node in the linked list\n",
    "5. Sort - sort the nodes of the linked list"
   ]
  },
  {
   "cell_type": "markdown",
   "metadata": {},
   "source": [
    "## Implementation"
   ]
  },
  {
   "cell_type": "code",
   "execution_count": 1,
   "metadata": {},
   "outputs": [],
   "source": [
    "class Node:\n",
    "\n",
    "    def __init__(self, data):\n",
    "        self.data = data\n",
    "        self.next = None"
   ]
  },
  {
   "cell_type": "code",
   "execution_count": 2,
   "metadata": {},
   "outputs": [],
   "source": [
    "class LinkedList:\n",
    "\n",
    "    def __init__(self):\n",
    "        self.head = None\n",
    "\n",
    "    # Insert at the beginning\n",
    "    def insertAtBeginning(self, new_data):\n",
    "        new_node = Node(new_data)\n",
    "\n",
    "        new_node.next = self.head\n",
    "        self.head = new_node\n",
    "\n",
    "    # Insert after a node\n",
    "    def insertAfter(self, prev_node, new_data):\n",
    "\n",
    "        if prev_node is None:\n",
    "            print(\"The given previous node must inLinkedList.\")\n",
    "            return\n",
    "\n",
    "        new_node = Node(new_data)\n",
    "        new_node.next = prev_node.next\n",
    "        prev_node.next = new_node\n",
    "\n",
    "    # Insert at the end\n",
    "    def insertAtEnd(self, new_data):\n",
    "        new_node = Node(new_data)\n",
    "\n",
    "        if self.head is None:\n",
    "            self.head = new_node\n",
    "            return\n",
    "\n",
    "        last = self.head\n",
    "        while (last.next):\n",
    "            last = last.next\n",
    "\n",
    "        last.next = new_node\n",
    "\n",
    "    # Deleting a node\n",
    "    def deleteNode(self, position):\n",
    "\n",
    "        if self.head is None:\n",
    "            return\n",
    "\n",
    "        temp = self.head\n",
    "\n",
    "        if position == 0:\n",
    "            self.head = temp.next\n",
    "            temp = None\n",
    "            return\n",
    "\n",
    "        # Find the key to be deleted\n",
    "        for i in range(position - 1):\n",
    "            temp = temp.next\n",
    "            if temp is None:\n",
    "                break\n",
    "\n",
    "        # If the key is not present\n",
    "        if temp is None:\n",
    "            return\n",
    "\n",
    "        if temp.next is None:\n",
    "            return\n",
    "\n",
    "        next = temp.next.next\n",
    "\n",
    "        temp.next = None\n",
    "\n",
    "        temp.next = next\n",
    "\n",
    "    # Search an element\n",
    "    def search(self, key):\n",
    "\n",
    "        current = self.head\n",
    "\n",
    "        while current is not None:\n",
    "            if current.data == key:\n",
    "                return True\n",
    "\n",
    "            current = current.next\n",
    "\n",
    "        return False\n",
    "\n",
    "    # Sort the linked list\n",
    "    def sortLinkedList(self, head):\n",
    "        current = head\n",
    "        index = Node(None)\n",
    "\n",
    "        if head is None:\n",
    "            return\n",
    "        else:\n",
    "            while current is not None:\n",
    "                # index points to the node next to current\n",
    "                index = current.next\n",
    "\n",
    "                while index is not None:\n",
    "                    if current.data > index.data:\n",
    "                        current.data, index.data = index.data, current.data\n",
    "\n",
    "                    index = index.next\n",
    "                current = current.next\n",
    "\n",
    "    # Print the linked list\n",
    "    def traverse(self):\n",
    "        temp = self.head\n",
    "        while (temp):\n",
    "            print(str(temp.data) + \" \", end=\"\")\n",
    "            temp = temp.next\n"
   ]
  },
  {
   "cell_type": "code",
   "execution_count": 3,
   "metadata": {},
   "outputs": [],
   "source": [
    "# Create new instance\n",
    "llist = LinkedList()"
   ]
  },
  {
   "cell_type": "markdown",
   "metadata": {},
   "source": [
    "## 1. Traverse"
   ]
  },
  {
   "cell_type": "code",
   "execution_count": 4,
   "metadata": {},
   "outputs": [],
   "source": [
    "llist.traverse()"
   ]
  },
  {
   "cell_type": "markdown",
   "metadata": {},
   "source": [
    "## 2. Insert"
   ]
  },
  {
   "cell_type": "markdown",
   "metadata": {},
   "source": [
    "### Insert at the Beginning"
   ]
  },
  {
   "cell_type": "markdown",
   "metadata": {},
   "source": [
    "1. Allocate memory for new node\n",
    "2. Store data\n",
    "3. Change next of new node to point to head\n",
    "4. Change head to point to recently created node"
   ]
  },
  {
   "cell_type": "code",
   "execution_count": 5,
   "metadata": {},
   "outputs": [],
   "source": [
    "llist.insertAtBeginning(2)\n",
    "llist.insertAtBeginning(3)"
   ]
  },
  {
   "cell_type": "markdown",
   "metadata": {},
   "source": [
    "### Insert at the End"
   ]
  },
  {
   "cell_type": "markdown",
   "metadata": {},
   "source": [
    "1. Allocate memory for new node\n",
    "2. Store data\n",
    "3. Traverse to last node\n",
    "4. Change next of last node to recently created node"
   ]
  },
  {
   "cell_type": "code",
   "execution_count": 6,
   "metadata": {},
   "outputs": [],
   "source": [
    "llist.insertAtEnd(1)\n",
    "llist.insertAtEnd(4)"
   ]
  },
  {
   "cell_type": "markdown",
   "metadata": {},
   "source": [
    "### Insert at after a specific element"
   ]
  },
  {
   "cell_type": "markdown",
   "metadata": {},
   "source": [
    "1. Allocate memory and store data for new node\n",
    "2. Traverse to node just before the required position of new node\n",
    "3. Change next pointers to include new node in between"
   ]
  },
  {
   "cell_type": "code",
   "execution_count": 7,
   "metadata": {},
   "outputs": [],
   "source": [
    "llist.insertAfter(llist.head.next, 5)"
   ]
  },
  {
   "cell_type": "code",
   "execution_count": 8,
   "metadata": {},
   "outputs": [
    {
     "name": "stdout",
     "output_type": "stream",
     "text": [
      "3 2 5 1 4 "
     ]
    }
   ],
   "source": [
    "llist.traverse()"
   ]
  },
  {
   "cell_type": "markdown",
   "metadata": {},
   "source": [
    "## 3. Delete"
   ]
  },
  {
   "cell_type": "code",
   "execution_count": 9,
   "metadata": {},
   "outputs": [
    {
     "name": "stdout",
     "output_type": "stream",
     "text": [
      "\n",
      "After deleting an element:\n",
      "3 2 5 4 "
     ]
    }
   ],
   "source": [
    "print(\"\\nAfter deleting an element:\")\n",
    "llist.deleteNode(3)\n",
    "llist.traverse()"
   ]
  },
  {
   "cell_type": "markdown",
   "metadata": {},
   "source": [
    "## 4. Search"
   ]
  },
  {
   "cell_type": "markdown",
   "metadata": {},
   "source": [
    "Steps:\n",
    "\n",
    "1. Make head as the current node.\n",
    "2. Run a loop until the current node is NULL because the last element points to NULL.\n",
    "3. In each iteration, check if the key of the node is equal to item. If it the key matches the item, return true otherwise return false."
   ]
  },
  {
   "cell_type": "code",
   "execution_count": 10,
   "metadata": {},
   "outputs": [
    {
     "name": "stdout",
     "output_type": "stream",
     "text": [
      "3 is found\n"
     ]
    }
   ],
   "source": [
    "item_to_find = 3\n",
    "\n",
    "if llist.search(item_to_find):\n",
    "    print(str(item_to_find) + \" is found\")\n",
    "else:\n",
    "    print(str(item_to_find) + \" is not found\")"
   ]
  },
  {
   "cell_type": "markdown",
   "metadata": {},
   "source": [
    "## 4. Sort (Bubble Sort)"
   ]
  },
  {
   "cell_type": "markdown",
   "metadata": {},
   "source": [
    "\n",
    "\n",
    "1. Make the head as the current node and create another node index for later use.\n",
    "2. If head is null, return.\n",
    "3. Else, run a loop till the last node (i.e. NULL).\n",
    "4. In each iteration, follow the following step 5-6.\n",
    "5. Store the next node of current in index.\n",
    "6. Check if the data of the current node is greater than the next node. If it is greater, swap current and index."
   ]
  },
  {
   "cell_type": "code",
   "execution_count": 11,
   "metadata": {},
   "outputs": [
    {
     "name": "stdout",
     "output_type": "stream",
     "text": [
      "Sorted List: \n",
      "2 3 4 5 "
     ]
    }
   ],
   "source": [
    "llist.sortLinkedList(llist.head)\n",
    "print(\"Sorted List: \")\n",
    "llist.traverse()"
   ]
  }
 ],
 "metadata": {
  "kernelspec": {
   "display_name": "Python 3",
   "language": "python",
   "name": "python3"
  },
  "language_info": {
   "codemirror_mode": {
    "name": "ipython",
    "version": 3
   },
   "file_extension": ".py",
   "mimetype": "text/x-python",
   "name": "python",
   "nbconvert_exporter": "python",
   "pygments_lexer": "ipython3",
   "version": "3.11.4"
  },
  "orig_nbformat": 4
 },
 "nbformat": 4,
 "nbformat_minor": 2
}
