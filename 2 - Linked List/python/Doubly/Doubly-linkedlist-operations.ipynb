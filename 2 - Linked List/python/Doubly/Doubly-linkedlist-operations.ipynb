{
 "cells": [
  {
   "cell_type": "markdown",
   "metadata": {},
   "source": [
    "# Doubly Linked list Operations"
   ]
  },
  {
   "cell_type": "markdown",
   "metadata": {},
   "source": [
    "## Implementation"
   ]
  },
  {
   "cell_type": "code",
   "execution_count": 1,
   "metadata": {},
   "outputs": [],
   "source": [
    "# Import garbage collection library\n",
    "import gc"
   ]
  },
  {
   "cell_type": "code",
   "execution_count": 2,
   "metadata": {},
   "outputs": [],
   "source": [
    "# Create a Node class\n",
    "class Node:\n",
    "\n",
    "    def __init__(self, data):\n",
    "        self.data = data\n",
    "        self.next = None\n",
    "        self.prev = None"
   ]
  },
  {
   "cell_type": "code",
   "execution_count": 3,
   "metadata": {},
   "outputs": [],
   "source": [
    "# Create a DoublyLinkedList class\n",
    "class DoublyLinkedList:\n",
    "\n",
    "    def __init__(self):\n",
    "        self.head = None\n",
    "\n",
    "    # insert node at the front\n",
    "    def insert_front(self, data):\n",
    "\n",
    "        # allocate memory for newNode and assign data to newNode\n",
    "        new_node = Node(data)\n",
    "\n",
    "        # make newNode as a head\n",
    "        new_node.next = self.head\n",
    "\n",
    "        # assign null to prev (prev is already none in the constructor)\n",
    "\n",
    "        # previous of head (now head is the second node) is newNode\n",
    "        if self.head is not None:\n",
    "            self.head.prev = new_node\n",
    "\n",
    "        # head points to newNode\n",
    "        self.head = new_node\n",
    "\n",
    "    # insert a node after a specific node\n",
    "    def insert_after(self, prev_node, data):\n",
    "\n",
    "        # check if previous node is null\n",
    "        if prev_node is None:\n",
    "            print(\"previous node cannot be null\")\n",
    "            return\n",
    "\n",
    "        # allocate memory for newNode and assign data to newNode\n",
    "        new_node = Node(data)\n",
    "\n",
    "        # set next of newNode to next of prev node\n",
    "        new_node.next = prev_node.next\n",
    "\n",
    "        # set next of prev node to newNode\n",
    "        prev_node.next = new_node\n",
    "\n",
    "        # set prev of newNode to the previous node\n",
    "        new_node.prev = prev_node\n",
    "\n",
    "        # set prev of newNode's next to newNode\n",
    "        if new_node.next:\n",
    "            new_node.next.prev = new_node\n",
    "\n",
    "    # insert a newNode at the end of the list\n",
    "    def insert_end(self, data):\n",
    "\n",
    "        # allocate memory for newNode and assign data to newNode\n",
    "        new_node = Node(data)\n",
    "\n",
    "        # assign null to next of newNode (already done in constructor)\n",
    "\n",
    "        # if the linked list is empty, make the newNode as head node\n",
    "        if self.head is None:\n",
    "            self.head = new_node\n",
    "            return\n",
    "\n",
    "        # store the head node temporarily (for later use)\n",
    "        temp = self.head\n",
    "\n",
    "        # if the linked list is not empty, traverse to the end of the linked list\n",
    "        while temp.next:\n",
    "            temp = temp.next\n",
    "\n",
    "        # now, the last node of the linked list is temp\n",
    "\n",
    "        # assign next of the last node (temp) to newNode\n",
    "        temp.next = new_node\n",
    "\n",
    "        # assign prev of newNode to temp\n",
    "        new_node.prev = temp\n",
    "\n",
    "        return\n",
    "\n",
    "    # delete a node from the doubly linked list\n",
    "    def deleteNode(self, dele):\n",
    "\n",
    "        # if head or del is null, deletion is not possible\n",
    "        if self.head is None or dele is None:\n",
    "            return\n",
    "\n",
    "        # if del_node is the head node, point the head pointer to the next of del_node\n",
    "        if self.head == dele:\n",
    "            self.head = dele.next\n",
    "\n",
    "        # if del_node is not at the last node, point the prev of node next to del_node to the previous of del_node\n",
    "        if dele.next is not None:\n",
    "            dele.next.prev = dele.prev\n",
    "\n",
    "        # if del_node is not the first node, point the next of the previous node to the next node of del_node\n",
    "        if dele.prev is not None:\n",
    "            dele.prev.next = dele.next\n",
    "\n",
    "        # free the memory of del_node\n",
    "        gc.collect()\n",
    "\n",
    "    # print the doubly linked list\n",
    "    def traverse(self, node):\n",
    "\n",
    "        while node:\n",
    "            print(node.data, end=\" -> \")\n",
    "            last = node\n",
    "            node = node.next"
   ]
  },
  {
   "cell_type": "code",
   "execution_count": 4,
   "metadata": {},
   "outputs": [],
   "source": [
    "# initialize an empty node\n",
    "doubly_linked_list = DoublyLinkedList()"
   ]
  },
  {
   "cell_type": "code",
   "execution_count": 5,
   "metadata": {},
   "outputs": [
    {
     "name": "stdout",
     "output_type": "stream",
     "text": [
      "1 -> 2 -> 3 -> "
     ]
    }
   ],
   "source": [
    "# Initialize values\n",
    "doubly_linked_list.insert_front(3)\n",
    "doubly_linked_list.insert_front(2)\n",
    "doubly_linked_list.insert_front(1)\n",
    "doubly_linked_list.traverse(doubly_linked_list.head)\n"
   ]
  },
  {
   "cell_type": "markdown",
   "metadata": {},
   "source": [
    "<img src=\"doubly-linked-list-created.png\" />"
   ]
  },
  {
   "cell_type": "markdown",
   "metadata": {},
   "source": [
    "## 1. Insert"
   ]
  },
  {
   "cell_type": "markdown",
   "metadata": {},
   "source": [
    "Inserting a node to a doubly-linked list is similar to normal/singly linked list. However, additional effort is necessary to manage the reference to the preceding node.\n",
    "\n",
    "We can insert elements at 3 different positions of a doubly-linked list:\n",
    "\n",
    "1. **Insertion at the beginning**\n",
    "2. **Insertion in-between nodes**\n",
    "3. **Insertion at the End**"
   ]
  },
  {
   "cell_type": "markdown",
   "metadata": {},
   "source": [
    "#### Insert elements at the front"
   ]
  },
  {
   "cell_type": "code",
   "execution_count": 6,
   "metadata": {},
   "outputs": [],
   "source": [
    "doubly_linked_list.insert_front(6)"
   ]
  },
  {
   "cell_type": "markdown",
   "metadata": {},
   "source": [
    "<img src=\"dll-insertion-front-2.png\" />"
   ]
  },
  {
   "cell_type": "code",
   "execution_count": 7,
   "metadata": {},
   "outputs": [
    {
     "name": "stdout",
     "output_type": "stream",
     "text": [
      "6 -> 1 -> 2 -> 3 -> "
     ]
    }
   ],
   "source": [
    "# Print linked list\n",
    "doubly_linked_list.traverse(doubly_linked_list.head)\n"
   ]
  },
  {
   "cell_type": "markdown",
   "metadata": {},
   "source": [
    "<img src=\"dll-insertion-front-3.png\" />"
   ]
  },
  {
   "cell_type": "markdown",
   "metadata": {},
   "source": [
    "#### Insert elements in-between nodes"
   ]
  },
  {
   "cell_type": "code",
   "execution_count": 8,
   "metadata": {},
   "outputs": [
    {
     "name": "stdout",
     "output_type": "stream",
     "text": [
      "1 -> 2 -> 3 -> "
     ]
    }
   ],
   "source": [
    "# Re-initialize values\n",
    "doubly_linked_list = DoublyLinkedList()\n",
    "\n",
    "doubly_linked_list.insert_front(3)\n",
    "doubly_linked_list.insert_front(2)\n",
    "doubly_linked_list.insert_front(1)\n",
    "doubly_linked_list.traverse(doubly_linked_list.head)"
   ]
  },
  {
   "cell_type": "code",
   "execution_count": 9,
   "metadata": {},
   "outputs": [],
   "source": [
    "# insert element 11 after a head\n",
    "doubly_linked_list.insert_after(doubly_linked_list.head, 6)"
   ]
  },
  {
   "cell_type": "markdown",
   "metadata": {},
   "source": [
    "<img src=\"dll-insertion-after-2_1.png\" />"
   ]
  },
  {
   "cell_type": "markdown",
   "metadata": {},
   "source": [
    "<img src=\"dll-insertion-after-3_1.png\" />"
   ]
  },
  {
   "cell_type": "code",
   "execution_count": 10,
   "metadata": {},
   "outputs": [
    {
     "name": "stdout",
     "output_type": "stream",
     "text": [
      "1 -> 6 -> 2 -> 3 -> "
     ]
    }
   ],
   "source": [
    "doubly_linked_list.traverse(doubly_linked_list.head)\n"
   ]
  },
  {
   "cell_type": "markdown",
   "metadata": {},
   "source": [
    "<img src=\"dll-insertion-after-4.png\" />"
   ]
  },
  {
   "cell_type": "markdown",
   "metadata": {},
   "source": [
    "#### Insert elements at the end"
   ]
  },
  {
   "cell_type": "code",
   "execution_count": 11,
   "metadata": {},
   "outputs": [
    {
     "name": "stdout",
     "output_type": "stream",
     "text": [
      "1 -> 2 -> 3 -> "
     ]
    }
   ],
   "source": [
    "# Re-initialize values\n",
    "doubly_linked_list = DoublyLinkedList()\n",
    "\n",
    "doubly_linked_list.insert_front(3)\n",
    "doubly_linked_list.insert_front(2)\n",
    "doubly_linked_list.insert_front(1)\n",
    "doubly_linked_list.traverse(doubly_linked_list.head)\n"
   ]
  },
  {
   "cell_type": "code",
   "execution_count": 12,
   "metadata": {},
   "outputs": [],
   "source": [
    "doubly_linked_list.insert_end(6)"
   ]
  },
  {
   "cell_type": "markdown",
   "metadata": {},
   "source": [
    "<img src=\"dll-insertion-end-2.png\" />"
   ]
  },
  {
   "cell_type": "code",
   "execution_count": 13,
   "metadata": {},
   "outputs": [
    {
     "name": "stdout",
     "output_type": "stream",
     "text": [
      "1 -> 2 -> 3 -> 6 -> "
     ]
    }
   ],
   "source": [
    "doubly_linked_list.traverse(doubly_linked_list.head)\n"
   ]
  },
  {
   "cell_type": "markdown",
   "metadata": {},
   "source": [
    "## 2. Delete"
   ]
  },
  {
   "cell_type": "markdown",
   "metadata": {},
   "source": [
    "Similar to insertion, we can also delete a node from 3 different positions of a doubly linked list.\n",
    "\n",
    "1. **Delete element at the beginning**\n",
    "2. **Delete an element in-between nodes**\n",
    "3. **Delete an element at the end**"
   ]
  },
  {
   "cell_type": "code",
   "execution_count": 14,
   "metadata": {},
   "outputs": [],
   "source": [
    "# Re-initialize values\n",
    "doubly_linked_list = DoublyLinkedList()\n",
    "\n",
    "doubly_linked_list.insert_front(3)\n",
    "doubly_linked_list.insert_front(2)\n",
    "doubly_linked_list.insert_front(1)"
   ]
  },
  {
   "cell_type": "code",
   "execution_count": 15,
   "metadata": {},
   "outputs": [
    {
     "name": "stdout",
     "output_type": "stream",
     "text": [
      "1 -> 2 -> 3 -> "
     ]
    }
   ],
   "source": [
    "doubly_linked_list.traverse(doubly_linked_list.head)\n"
   ]
  },
  {
   "cell_type": "code",
   "execution_count": 16,
   "metadata": {},
   "outputs": [
    {
     "name": "stdout",
     "output_type": "stream",
     "text": [
      "1 -> 2 -> "
     ]
    }
   ],
   "source": [
    "# Delete the last node\n",
    "doubly_linked_list.deleteNode(doubly_linked_list.head.next.next)\n",
    "\n",
    "doubly_linked_list.traverse(doubly_linked_list.head)"
   ]
  },
  {
   "cell_type": "code",
   "execution_count": 17,
   "metadata": {},
   "outputs": [
    {
     "name": "stdout",
     "output_type": "stream",
     "text": [
      "2 -> "
     ]
    }
   ],
   "source": [
    "# Delete the head\n",
    "doubly_linked_list.deleteNode(doubly_linked_list.head)\n",
    "\n",
    "doubly_linked_list.traverse(doubly_linked_list.head)"
   ]
  },
  {
   "cell_type": "markdown",
   "metadata": {},
   "source": [
    "# Doubly Linked list Time Complexity"
   ]
  },
  {
   "cell_type": "markdown",
   "metadata": {},
   "source": [
    "| Operation | Time Complexity | \n",
    "| --- | --- | \n",
    "| Insert | $O(1)$ or $O(n)$  | \n",
    "| Delete | $O(1)$ | "
   ]
  }
 ],
 "metadata": {
  "kernelspec": {
   "display_name": "Python 3",
   "language": "python",
   "name": "python3"
  },
  "language_info": {
   "codemirror_mode": {
    "name": "ipython",
    "version": 3
   },
   "file_extension": ".py",
   "mimetype": "text/x-python",
   "name": "python",
   "nbconvert_exporter": "python",
   "pygments_lexer": "ipython3",
   "version": "3.9.13"
  },
  "orig_nbformat": 4
 },
 "nbformat": 4,
 "nbformat_minor": 2
}
