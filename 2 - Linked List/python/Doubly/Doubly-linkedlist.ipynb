{
 "cells": [
  {
   "cell_type": "markdown",
   "metadata": {},
   "source": [
    "# Doubly Linked list"
   ]
  },
  {
   "cell_type": "markdown",
   "metadata": {},
   "source": [
    "A doubly linked list stores the previous node and the next node. Thus, we can go in either direction: **forward or backward**.\n"
   ]
  },
  {
   "cell_type": "markdown",
   "metadata": {},
   "source": [
    "<img src=\"doubly-linked-list-created.png\" />"
   ]
  },
  {
   "cell_type": "markdown",
   "metadata": {},
   "source": [
    "## Doubly Linked list Node"
   ]
  },
  {
   "cell_type": "markdown",
   "metadata": {},
   "source": [
    "A doubly linked list node consists of 3 components:\n",
    "\n",
    "1. **prev** - address of the previous node\n",
    "2. **data** - data item\n",
    "3. **next** - address of next node"
   ]
  },
  {
   "cell_type": "markdown",
   "metadata": {},
   "source": [
    "<img src =\"dll-node.png\" />"
   ]
  },
  {
   "cell_type": "markdown",
   "metadata": {},
   "source": [
    "## Simple Implementation"
   ]
  },
  {
   "cell_type": "markdown",
   "metadata": {},
   "source": [
    "### Step 1: Create a **Node** class"
   ]
  },
  {
   "cell_type": "code",
   "execution_count": 1,
   "metadata": {},
   "outputs": [],
   "source": [
    "class Node:\n",
    "\n",
    "    def __init__(self, data):\n",
    "        self.data = data\n",
    "        self.next = None\n",
    "        self.prev = None"
   ]
  },
  {
   "cell_type": "markdown",
   "metadata": {},
   "source": [
    "### Step 2: Create a **DoublyLinkedList class**"
   ]
  },
  {
   "cell_type": "code",
   "execution_count": 2,
   "metadata": {},
   "outputs": [],
   "source": [
    "class DoublyLinkedList:\n",
    "    \n",
    "    def __init__(self):\n",
    "        self.head = None\n",
    "        \n",
    "    def traverse(self, node):\n",
    "        while node:\n",
    "            print(node.data, end=\" -> \")\n",
    "            node = node.next"
   ]
  },
  {
   "cell_type": "markdown",
   "metadata": {},
   "source": [
    "### Step 3: Create new instance of the **DoublyLinkedList** class"
   ]
  },
  {
   "cell_type": "code",
   "execution_count": 3,
   "metadata": {},
   "outputs": [],
   "source": [
    "doubly_linked_list = DoublyLinkedList()"
   ]
  },
  {
   "cell_type": "markdown",
   "metadata": {},
   "source": [
    "### Step 4: Create each node"
   ]
  },
  {
   "cell_type": "code",
   "execution_count": 4,
   "metadata": {},
   "outputs": [],
   "source": [
    "doubly_linked_list.head = Node(1)\n",
    "node_b = Node(2)\n",
    "node_c = Node(3)"
   ]
  },
  {
   "cell_type": "markdown",
   "metadata": {},
   "source": [
    "### Step 5: Connect each node"
   ]
  },
  {
   "cell_type": "code",
   "execution_count": 5,
   "metadata": {},
   "outputs": [],
   "source": [
    "doubly_linked_list.head.prev = None\n",
    "doubly_linked_list.head.next = node_b\n",
    "\n",
    "node_b.prev = doubly_linked_list.head\n",
    "node_b.next = node_c\n",
    "\n",
    "node_c.prev = node_b\n",
    "node_c.next = None"
   ]
  },
  {
   "cell_type": "code",
   "execution_count": 6,
   "metadata": {},
   "outputs": [
    {
     "name": "stdout",
     "output_type": "stream",
     "text": [
      "value of head is : 1\n",
      "value of next to head is : 2\n",
      "---\n",
      "value of node_b is : 2\n",
      "value of previous of node_b is : 1\n",
      "value of next of node_b is : 3\n",
      "---\n",
      "value of node_c is : 3\n",
      "value of previous of node_c is : 2\n"
     ]
    }
   ],
   "source": [
    "# Print value of each node\n",
    "print(\"value of head is :\", doubly_linked_list.head.data)\n",
    "print(\"value of next to head is :\", doubly_linked_list.head.next.data)\n",
    "\n",
    "print(\"---\")\n",
    "\n",
    "print(\"value of node_b is :\", node_b.data)\n",
    "print(\"value of previous of node_b is :\", node_b.prev.data)\n",
    "print(\"value of next of node_b is :\", node_b.next.data)\n",
    "\n",
    "print(\"---\")\n",
    "\n",
    "print(\"value of node_c is :\", node_c.data)\n",
    "print(\"value of previous of node_c is :\", node_c.prev.data)"
   ]
  },
  {
   "cell_type": "markdown",
   "metadata": {},
   "source": [
    "#### Display all elements in Doubly Linked list"
   ]
  },
  {
   "cell_type": "code",
   "execution_count": 7,
   "metadata": {},
   "outputs": [
    {
     "name": "stdout",
     "output_type": "stream",
     "text": [
      "1 -> 2 -> 3 -> "
     ]
    }
   ],
   "source": [
    "doubly_linked_list.traverse(doubly_linked_list.head)\n"
   ]
  },
  {
   "cell_type": "markdown",
   "metadata": {},
   "source": [
    "<img src=\"doubly-linked-list-created.png\" />"
   ]
  }
 ],
 "metadata": {
  "kernelspec": {
   "display_name": "Python 3",
   "language": "python",
   "name": "python3"
  },
  "language_info": {
   "codemirror_mode": {
    "name": "ipython",
    "version": 3
   },
   "file_extension": ".py",
   "mimetype": "text/x-python",
   "name": "python",
   "nbconvert_exporter": "python",
   "pygments_lexer": "ipython3",
   "version": "3.9.13"
  },
  "orig_nbformat": 4
 },
 "nbformat": 4,
 "nbformat_minor": 2
}
