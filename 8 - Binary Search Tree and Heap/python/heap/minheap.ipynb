{
 "cells": [
  {
   "cell_type": "code",
   "execution_count": null,
   "metadata": {},
   "outputs": [],
   "source": [
    "def min_heapify(A, k):\n",
    "    l = left(k)\n",
    "    r = right(k)\n",
    "    if l < len(A) and A[l] < A[k]:\n",
    "        smallest = l\n",
    "    else:\n",
    "        smallest = k\n",
    "    if r < len(A) and A[r] < A[smallest]:\n",
    "        smallest = r\n",
    "    if smallest != k:\n",
    "        A[k], A[smallest] = A[smallest], A[k]\n",
    "        min_heapify(A, smallest)\n",
    "\n",
    "def left(k):\n",
    "    return 2 * k + 1\n",
    "\n",
    "def right(k):\n",
    "    return 2 * k + 2\n",
    "\n",
    "def build_min_heap(A):\n",
    "    n = int((len(A)//2)-1)\n",
    "    for k in range(n, -1, -1):\n",
    "        min_heapify(A, k)"
   ]
  },
  {
   "cell_type": "code",
   "execution_count": null,
   "metadata": {},
   "outputs": [],
   "source": [
    "A = [3, 9, 2, 1, 4, 5]\n",
    "build_min_heap(A)\n",
    "print(A)"
   ]
  }
 ],
 "metadata": {
  "language_info": {
   "name": "python"
  }
 },
 "nbformat": 4,
 "nbformat_minor": 2
}
