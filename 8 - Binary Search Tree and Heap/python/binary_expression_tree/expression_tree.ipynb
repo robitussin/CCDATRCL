{
 "cells": [
  {
   "cell_type": "markdown",
   "metadata": {},
   "source": [
    "# Binary Expression Tree"
   ]
  },
  {
   "cell_type": "code",
   "execution_count": 11,
   "metadata": {},
   "outputs": [],
   "source": [
    "class Node:\n",
    "    def __init__(self, item):\n",
    "        self.left = None\n",
    "        self.right = None\n",
    "        self.data = item"
   ]
  },
  {
   "cell_type": "code",
   "execution_count": 12,
   "metadata": {},
   "outputs": [],
   "source": [
    "def inorder(root):\n",
    "\n",
    "    if root:\n",
    "        # Traverse left\n",
    "        inorder(root.left)\n",
    "        # Traverse root\n",
    "        print(str(root.data) + \"->\", end='')\n",
    "        # Traverse right\n",
    "        inorder(root.right)"
   ]
  },
  {
   "cell_type": "code",
   "execution_count": 13,
   "metadata": {},
   "outputs": [],
   "source": [
    "def evaluateExpressionTree(root):\n",
    " \n",
    "    # empty tree\n",
    "    if root is None:\n",
    "        return 0\n",
    " \n",
    "    # leaf node\n",
    "    if root.left is None and root.right is None:\n",
    "        return int(root.data)\n",
    " \n",
    "    # evaluate left tree\n",
    "    left_sum = evaluateExpressionTree(root.left)\n",
    " \n",
    "    # evaluate right tree\n",
    "    right_sum = evaluateExpressionTree(root.right)\n",
    " \n",
    "    # check which operation to apply\n",
    "    if root.data == '+':\n",
    "        return left_sum + right_sum\n",
    " \n",
    "    elif root.data == '-':\n",
    "        return left_sum - right_sum\n",
    " \n",
    "    elif root.data == '*':\n",
    "        return left_sum * right_sum\n",
    " \n",
    "    else:\n",
    "        return left_sum // right_sum"
   ]
  },
  {
   "cell_type": "markdown",
   "metadata": {},
   "source": [
    "1. Create a binary expression tree using the expression below\n",
    "\n",
    "$ 1 + 1 $"
   ]
  },
  {
   "cell_type": "code",
   "execution_count": 14,
   "metadata": {},
   "outputs": [],
   "source": [
    "root = Node(\"+\")\n",
    "node1 = Node(\"1\")\n",
    "node2 = Node(\"1\")\n",
    "\n",
    "root.left = node1\n",
    "root.right = node2"
   ]
  },
  {
   "cell_type": "code",
   "execution_count": 15,
   "metadata": {},
   "outputs": [
    {
     "data": {
      "text/plain": [
       "2"
      ]
     },
     "execution_count": 15,
     "metadata": {},
     "output_type": "execute_result"
    }
   ],
   "source": [
    "evaluateExpressionTree(root)"
   ]
  },
  {
   "cell_type": "code",
   "execution_count": 16,
   "metadata": {},
   "outputs": [
    {
     "name": "stdout",
     "output_type": "stream",
     "text": [
      "1->+->1->"
     ]
    }
   ],
   "source": [
    "inorder(root)"
   ]
  }
 ],
 "metadata": {
  "kernelspec": {
   "display_name": "Python 3",
   "language": "python",
   "name": "python3"
  },
  "language_info": {
   "codemirror_mode": {
    "name": "ipython",
    "version": 3
   },
   "file_extension": ".py",
   "mimetype": "text/x-python",
   "name": "python",
   "nbconvert_exporter": "python",
   "pygments_lexer": "ipython3",
   "version": "3.11.4"
  },
  "orig_nbformat": 4
 },
 "nbformat": 4,
 "nbformat_minor": 2
}
