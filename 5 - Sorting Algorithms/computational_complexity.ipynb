{
 "cells": [
  {
   "cell_type": "markdown",
   "metadata": {},
   "source": [
    "# Computational Complexity"
   ]
  },
  {
   "cell_type": "code",
   "execution_count": 7,
   "metadata": {},
   "outputs": [],
   "source": [
    "data = [1, 2, 9, 8, 3, 4, 7, 6, 5]"
   ]
  },
  {
   "cell_type": "markdown",
   "metadata": {},
   "source": [
    "## Constant Time"
   ]
  },
  {
   "cell_type": "code",
   "execution_count": 8,
   "metadata": {},
   "outputs": [
    {
     "name": "stdout",
     "output_type": "stream",
     "text": [
      "False\n"
     ]
    }
   ],
   "source": [
    "a = 0\n",
    "b = 1\n",
    "\n",
    "if a > b:\n",
    "    print(True)\n",
    "else:\n",
    "    print(False)"
   ]
  },
  {
   "cell_type": "code",
   "execution_count": 9,
   "metadata": {},
   "outputs": [
    {
     "name": "stdout",
     "output_type": "stream",
     "text": [
      "1\n"
     ]
    }
   ],
   "source": [
    "def get_first(data):\n",
    "    return data[0]\n",
    "\n",
    "print(get_first(data))"
   ]
  },
  {
   "cell_type": "markdown",
   "metadata": {},
   "source": [
    "## Logarithmic Time"
   ]
  },
  {
   "cell_type": "code",
   "execution_count": 10,
   "metadata": {},
   "outputs": [
    {
     "name": "stdout",
     "output_type": "stream",
     "text": [
      "1\n",
      "8\n",
      "7\n"
     ]
    }
   ],
   "source": [
    "for index in range(0, len(data), 3):\n",
    "    print(data[index])"
   ]
  },
  {
   "cell_type": "markdown",
   "metadata": {},
   "source": [
    "## Linear Time"
   ]
  },
  {
   "cell_type": "code",
   "execution_count": 11,
   "metadata": {},
   "outputs": [
    {
     "name": "stdout",
     "output_type": "stream",
     "text": [
      "1\n",
      "2\n",
      "9\n",
      "8\n",
      "3\n",
      "4\n",
      "7\n",
      "6\n",
      "5\n"
     ]
    }
   ],
   "source": [
    "for value in data:\n",
    "    print(value)"
   ]
  },
  {
   "cell_type": "markdown",
   "metadata": {},
   "source": [
    "## Quasilinear Time"
   ]
  },
  {
   "cell_type": "code",
   "execution_count": 12,
   "metadata": {},
   "outputs": [],
   "source": [
    "# for value in data1:\n",
    "#     result.append(binary_search(data2, value))"
   ]
  },
  {
   "cell_type": "markdown",
   "metadata": {},
   "source": [
    "## Quadratic Time"
   ]
  },
  {
   "cell_type": "markdown",
   "metadata": {},
   "source": [
    "Bubble sort is a great example of quadratic time complexity since for each value it needs to compare to all other values in the list"
   ]
  },
  {
   "cell_type": "code",
   "execution_count": 13,
   "metadata": {},
   "outputs": [
    {
     "name": "stdout",
     "output_type": "stream",
     "text": [
      "1 1\n",
      "1 2\n",
      "1 9\n",
      "1 8\n",
      "1 3\n",
      "1 4\n",
      "1 7\n",
      "1 6\n",
      "1 5\n",
      "2 1\n",
      "2 2\n",
      "2 9\n",
      "2 8\n",
      "2 3\n",
      "2 4\n",
      "2 7\n",
      "2 6\n",
      "2 5\n",
      "9 1\n",
      "9 2\n",
      "9 9\n",
      "9 8\n",
      "9 3\n",
      "9 4\n",
      "9 7\n",
      "9 6\n",
      "9 5\n",
      "8 1\n",
      "8 2\n",
      "8 9\n",
      "8 8\n",
      "8 3\n",
      "8 4\n",
      "8 7\n",
      "8 6\n",
      "8 5\n",
      "3 1\n",
      "3 2\n",
      "3 9\n",
      "3 8\n",
      "3 3\n",
      "3 4\n",
      "3 7\n",
      "3 6\n",
      "3 5\n",
      "4 1\n",
      "4 2\n",
      "4 9\n",
      "4 8\n",
      "4 3\n",
      "4 4\n",
      "4 7\n",
      "4 6\n",
      "4 5\n",
      "7 1\n",
      "7 2\n",
      "7 9\n",
      "7 8\n",
      "7 3\n",
      "7 4\n",
      "7 7\n",
      "7 6\n",
      "7 5\n",
      "6 1\n",
      "6 2\n",
      "6 9\n",
      "6 8\n",
      "6 3\n",
      "6 4\n",
      "6 7\n",
      "6 6\n",
      "6 5\n",
      "5 1\n",
      "5 2\n",
      "5 9\n",
      "5 8\n",
      "5 3\n",
      "5 4\n",
      "5 7\n",
      "5 6\n",
      "5 5\n"
     ]
    }
   ],
   "source": [
    "for x in data:\n",
    "    for y in data:\n",
    "        print(x, y)"
   ]
  },
  {
   "cell_type": "markdown",
   "metadata": {},
   "source": [
    "## Exponential Time"
   ]
  },
  {
   "cell_type": "code",
   "execution_count": 14,
   "metadata": {},
   "outputs": [],
   "source": [
    "def fibonacci(n):\n",
    "    if n <= 1:\n",
    "        return n\n",
    "    return fibonacci(n-1) + fibonacci(n-2)"
   ]
  },
  {
   "cell_type": "markdown",
   "metadata": {},
   "source": [
    "## Factorial Time"
   ]
  },
  {
   "cell_type": "code",
   "execution_count": 15,
   "metadata": {},
   "outputs": [],
   "source": [
    "# 2!\n",
    "twofactorial = 2 * 1 # answer 2\n",
    "\n",
    "# 3!\n",
    "threefactorial = 3 * 2 * 1 # answer 6\n",
    "\n",
    "# 4!\n",
    "fourfactorial = 4 * 3 * 2 * 1  # answer 24\n",
    "\n",
    "# 5! \n",
    "fivefactorial = 5 * 4 * 3 * 2 * 1  # answer 120\n",
    "\n",
    "# 6! \n",
    "sixfactorial = 6 * 5 * 4 * 3 * 2 * 1  # answer 720\n",
    "\n",
    "# 7!\n",
    "sevenfactorial = 7 * 6 * 5 * 4 * 3 * 2 * 1  # answer 5.040\n",
    "\n",
    "# 8!\n",
    "eightfactorial = 8 * 7 * 6 * 5 * 4 * 3 * 2 * 1  # answer 40.320"
   ]
  }
 ],
 "metadata": {
  "kernelspec": {
   "display_name": "base",
   "language": "python",
   "name": "python3"
  },
  "language_info": {
   "codemirror_mode": {
    "name": "ipython",
    "version": 3
   },
   "file_extension": ".py",
   "mimetype": "text/x-python",
   "name": "python",
   "nbconvert_exporter": "python",
   "pygments_lexer": "ipython3",
   "version": "3.11.4"
  },
  "orig_nbformat": 4
 },
 "nbformat": 4,
 "nbformat_minor": 2
}
