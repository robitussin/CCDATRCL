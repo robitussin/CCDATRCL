{
 "cells": [
  {
   "cell_type": "markdown",
   "metadata": {},
   "source": [
    "# Counting Sort\n",
    "\n",
    "Counting sort is a sorting algorithm that sorts the elements of an array by counting the number of occurrences of each unique element in the array. The count is stored in an auxiliary array and the sorting is done by mapping the count as an index of the auxiliary array."
   ]
  },
  {
   "cell_type": "code",
   "execution_count": null,
   "metadata": {},
   "outputs": [],
   "source": [
    "# Counting sort in Python programming\n",
    "\n",
    "\n",
    "def countingSort(array):\n",
    "    size = len(array)\n",
    "    output = [0] * size\n",
    "\n",
    "    # Initialize count array\n",
    "    count = [0] * 10\n",
    "\n",
    "    # Store the count of each elements in count array\n",
    "    for i in range(0, size):\n",
    "        count[array[i]] += 1\n",
    "\n",
    "    # Store the cummulative count\n",
    "    for i in range(1, 10):\n",
    "        count[i] += count[i - 1]\n",
    "\n",
    "    # Find the index of each element of the original array in count array\n",
    "    # place the elements in output array\n",
    "    i = size - 1\n",
    "    while i >= 0:\n",
    "        output[count[array[i]] - 1] = array[i]\n",
    "        count[array[i]] -= 1\n",
    "        i -= 1\n",
    "\n",
    "    # Copy the sorted elements into original array\n",
    "    for i in range(0, size):\n",
    "        array[i] = output[i]"
   ]
  },
  {
   "cell_type": "code",
   "execution_count": null,
   "metadata": {},
   "outputs": [],
   "source": [
    "data = [4, 2, 2, 8, 3, 3, 1]\n",
    "countingSort(data)\n",
    "print(\"Sorted Array in Ascending Order: \")\n",
    "print(data)"
   ]
  }
 ],
 "metadata": {
  "language_info": {
   "name": "python"
  },
  "orig_nbformat": 4
 },
 "nbformat": 4,
 "nbformat_minor": 2
}
