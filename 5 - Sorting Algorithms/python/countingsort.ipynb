{
 "cells": [
  {
   "cell_type": "markdown",
   "metadata": {},
   "source": [
    "# Counting Sort\n",
    "\n",
    "Counting sort is a sorting algorithm that sorts the elements of an array by counting the number of occurrences of each unique element in the array. The count is stored in an auxiliary array and the sorting is done by mapping the count as an index of the auxiliary array."
   ]
  },
  {
   "cell_type": "code",
   "execution_count": 1,
   "metadata": {},
   "outputs": [],
   "source": [
    "# Counting sort in Python programming\n",
    "\n",
    "\n",
    "def countingSort(array):\n",
    "    size = len(array)\n",
    "    output = [0] * size\n",
    "\n",
    "    # Initialize count array\n",
    "    count = [0] * 10\n",
    "\n",
    "    # Store the count of each elements in count array\n",
    "    for i in range(0, size):\n",
    "        count[array[i]] += 1\n",
    "\n",
    "    # Store the cummulative count\n",
    "    for i in range(1, 10):\n",
    "        count[i] += count[i - 1]\n",
    "\n",
    "    # Find the index of each element of the original array in count array\n",
    "    # place the elements in output array\n",
    "    i = size - 1\n",
    "    while i >= 0:\n",
    "        output[count[array[i]] - 1] = array[i]\n",
    "        count[array[i]] -= 1\n",
    "        i -= 1\n",
    "\n",
    "    # Copy the sorted elements into original array\n",
    "    for i in range(0, size):\n",
    "        array[i] = output[i]"
   ]
  },
  {
   "cell_type": "code",
   "execution_count": 2,
   "metadata": {},
   "outputs": [
    {
     "name": "stdout",
     "output_type": "stream",
     "text": [
      "Sorted Array in Ascending Order: \n",
      "[1, 2, 2, 3, 3, 4, 8]\n"
     ]
    }
   ],
   "source": [
    "data = [4, 2, 2, 8, 3, 3, 1]\n",
    "countingSort(data)\n",
    "print(\"Sorted Array in Ascending Order: \")\n",
    "print(data)"
   ]
  }
 ],
 "metadata": {
  "kernelspec": {
   "display_name": "base",
   "language": "python",
   "name": "python3"
  },
  "language_info": {
   "codemirror_mode": {
    "name": "ipython",
    "version": 3
   },
   "file_extension": ".py",
   "mimetype": "text/x-python",
   "name": "python",
   "nbconvert_exporter": "python",
   "pygments_lexer": "ipython3",
   "version": "3.10.9"
  },
  "orig_nbformat": 4
 },
 "nbformat": 4,
 "nbformat_minor": 2
}
