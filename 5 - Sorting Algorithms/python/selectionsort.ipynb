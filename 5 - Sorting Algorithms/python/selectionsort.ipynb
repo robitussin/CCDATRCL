{
 "cells": [
  {
   "cell_type": "markdown",
   "metadata": {},
   "source": [
    "# Selection sort \n",
    "\n",
    "Selects the smallest element from an unsorted list in each iteration and places that element at the beginning of the unsorted list."
   ]
  },
  {
   "cell_type": "markdown",
   "metadata": {},
   "source": [
    "<image src=\"selectionsort.gif\" />"
   ]
  },
  {
   "cell_type": "markdown",
   "metadata": {},
   "source": [
    "## Steps:"
   ]
  },
  {
   "cell_type": "markdown",
   "metadata": {},
   "source": [
    "\n",
    "1. On the first pass, the smallest value is found and moved to index 0. \n",
    "2. The remainder of the unsorted array is then searched for the new minimum, which is placed at index 1, and so on\n"
   ]
  },
  {
   "cell_type": "markdown",
   "metadata": {},
   "source": [
    "## Implementation"
   ]
  },
  {
   "cell_type": "code",
   "execution_count": 1,
   "metadata": {},
   "outputs": [],
   "source": [
    "def selectionSort(array, size):\n",
    "   \n",
    "    for step in range(size):\n",
    "        min_idx = step\n",
    "\n",
    "        for i in range(step + 1, size):\n",
    "         \n",
    "            # to sort in descending order, change > to < in this line\n",
    "            # select the minimum element in each loop\n",
    "            if array[i] < array[min_idx]:\n",
    "                min_idx = i\n",
    "         \n",
    "        # put min at the correct position\n",
    "        (array[step], array[min_idx]) = (array[min_idx], array[step])"
   ]
  },
  {
   "cell_type": "code",
   "execution_count": 2,
   "metadata": {},
   "outputs": [
    {
     "name": "stdout",
     "output_type": "stream",
     "text": [
      "Sorted Array in Ascending Order:\n",
      "[-9, -2, 0, 11, 45]\n"
     ]
    }
   ],
   "source": [
    "data = [-2, 45, 0, 11, -9]\n",
    "size = len(data)\n",
    "selectionSort(data, size)\n",
    "print('Sorted Array in Ascending Order:')\n",
    "print(data)"
   ]
  },
  {
   "cell_type": "markdown",
   "metadata": {},
   "source": [
    "## Selection Sort Time Complexity\n",
    "\n",
    "| Best Case | Worst Case | Average Case |\n",
    "| --- | --- | --- |\n",
    "| $O(n^2)$ | $O(n^2)$ | $O(n^2)$ |"
   ]
  }
 ],
 "metadata": {
  "kernelspec": {
   "display_name": "base",
   "language": "python",
   "name": "python3"
  },
  "language_info": {
   "codemirror_mode": {
    "name": "ipython",
    "version": 3
   },
   "file_extension": ".py",
   "mimetype": "text/x-python",
   "name": "python",
   "nbconvert_exporter": "python",
   "pygments_lexer": "ipython3",
   "version": "3.10.9"
  },
  "orig_nbformat": 4
 },
 "nbformat": 4,
 "nbformat_minor": 2
}
