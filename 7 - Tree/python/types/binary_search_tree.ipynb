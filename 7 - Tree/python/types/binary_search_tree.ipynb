{
 "cells": [
  {
   "cell_type": "markdown",
   "metadata": {},
   "source": [
    "# Binary Search Tree"
   ]
  },
  {
   "cell_type": "markdown",
   "metadata": {},
   "source": [
    "Binary search tree is a data structure that quickly allows us to maintain a sorted list of numbers.\n",
    "\n",
    "It is called a binary tree because each tree node has a maximum of two children.\n",
    "It is called a search tree because it can be used to search for the presence of a number in O(log(n)) time.\n",
    "The properties that separate a binary search tree from a regular binary tree is\n",
    "\n",
    "All nodes of left subtree are less than the root node\n",
    "All nodes of right subtree are more than the root node\n",
    "Both subtrees of each node are also BSTs i.e. they have the above two properties"
   ]
  },
  {
   "cell_type": "markdown",
   "metadata": {},
   "source": [
    "## Implementation"
   ]
  },
  {
   "cell_type": "code",
   "execution_count": 1,
   "metadata": {},
   "outputs": [],
   "source": [
    "class Node:\n",
    "    def __init__(self, key):\n",
    "        self.key = key\n",
    "        self.left = None\n",
    "        self.right = None"
   ]
  },
  {
   "cell_type": "code",
   "execution_count": 2,
   "metadata": {},
   "outputs": [],
   "source": [
    "# Inorder traversal\n",
    "def inorder(root):\n",
    "    if root is not None:\n",
    "        # Traverse left\n",
    "        inorder(root.left)\n",
    "\n",
    "        # Traverse root\n",
    "        print(str(root.key) + \"->\", end=' ')\n",
    "\n",
    "        # Traverse right\n",
    "        inorder(root.right)\n",
    "\n",
    "\n",
    "# Insert a node\n",
    "def insert(node, key):\n",
    "\n",
    "    # Return a new node if the tree is empty\n",
    "    if node is None:\n",
    "        return Node(key)\n",
    "\n",
    "    # Traverse to the right place and insert the node\n",
    "    if key < node.key:\n",
    "        node.left = insert(node.left, key)\n",
    "    else:\n",
    "        node.right = insert(node.right, key)\n",
    "\n",
    "    return node\n",
    "\n",
    "\n",
    "# Find the inorder successor\n",
    "def minValueNode(node):\n",
    "    current = node\n",
    "\n",
    "    # Find the leftmost leaf\n",
    "    while(current.left is not None):\n",
    "        current = current.left\n",
    "\n",
    "    return current\n",
    "\n",
    "\n",
    "# Deleting a node\n",
    "def deleteNode(root, key):\n",
    "\n",
    "    # Return if the tree is empty\n",
    "    if root is None:\n",
    "        return root\n",
    "\n",
    "    # Find the node to be deleted\n",
    "    if key < root.key:\n",
    "        root.left = deleteNode(root.left, key)\n",
    "    elif(key > root.key):\n",
    "        root.right = deleteNode(root.right, key)\n",
    "    else:\n",
    "        # If the node is with only one child or no child\n",
    "        if root.left is None:\n",
    "            temp = root.right\n",
    "            root = None\n",
    "            return temp\n",
    "\n",
    "        elif root.right is None:\n",
    "            temp = root.left\n",
    "            root = None\n",
    "            return temp\n",
    "\n",
    "        # If the node has two children,\n",
    "        # place the inorder successor in position of the node to be deleted\n",
    "        temp = minValueNode(root.right)\n",
    "\n",
    "        root.key = temp.key\n",
    "\n",
    "        # Delete the inorder successor\n",
    "        root.right = deleteNode(root.right, temp.key)\n",
    "\n",
    "    return root"
   ]
  },
  {
   "cell_type": "code",
   "execution_count": 3,
   "metadata": {},
   "outputs": [
    {
     "name": "stdout",
     "output_type": "stream",
     "text": [
      "Inorder traversal:  1-> 3-> 4-> 6-> 7-> 8-> 10-> 14-> \n",
      "Delete 10\n",
      "Inorder traversal:  1-> 3-> 4-> 6-> 7-> 8-> 14-> "
     ]
    }
   ],
   "source": [
    "root = None\n",
    "root = insert(root, 8)\n",
    "root = insert(root, 3)\n",
    "root = insert(root, 1)\n",
    "root = insert(root, 6)\n",
    "root = insert(root, 7)\n",
    "root = insert(root, 10)\n",
    "root = insert(root, 14)\n",
    "root = insert(root, 4)\n",
    "\n",
    "print(\"Inorder traversal: \", end=' ')\n",
    "inorder(root)\n",
    "\n",
    "print(\"\\nDelete 10\")\n",
    "root = deleteNode(root, 10)\n",
    "print(\"Inorder traversal: \", end=' ')\n",
    "inorder(root)"
   ]
  }
 ],
 "metadata": {
  "kernelspec": {
   "display_name": "Python 3",
   "language": "python",
   "name": "python3"
  },
  "language_info": {
   "codemirror_mode": {
    "name": "ipython",
    "version": 3
   },
   "file_extension": ".py",
   "mimetype": "text/x-python",
   "name": "python",
   "nbconvert_exporter": "python",
   "pygments_lexer": "ipython3",
   "version": "3.11.4"
  },
  "orig_nbformat": 4
 },
 "nbformat": 4,
 "nbformat_minor": 2
}
