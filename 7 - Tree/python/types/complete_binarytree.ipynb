{
 "cells": [
  {
   "cell_type": "markdown",
   "metadata": {},
   "source": [
    "# Complete Binary Tree"
   ]
  },
  {
   "cell_type": "markdown",
   "metadata": {},
   "source": [
    "A complete binary tree is a binary tree in which all the levels are completely filled except possibly the lowest one, which is filled from the left.\n",
    "\n",
    "A complete binary tree is just like a full binary tree, but with two major differences\n",
    "\n",
    "All the leaf elements must lean towards the left.\n",
    "The last leaf element might not have a right sibling i.e. a complete binary tree doesn't have to be a full binary tree."
   ]
  },
  {
   "cell_type": "markdown",
   "metadata": {},
   "source": [
    "## Implementation"
   ]
  },
  {
   "cell_type": "code",
   "execution_count": 7,
   "metadata": {},
   "outputs": [],
   "source": [
    "class Node:\n",
    "\n",
    "    def __init__(self, item):\n",
    "        self.item = item\n",
    "        self.left = None\n",
    "        self.right = None"
   ]
  },
  {
   "cell_type": "code",
   "execution_count": 8,
   "metadata": {},
   "outputs": [],
   "source": [
    "# Count the number of nodes\n",
    "def count_nodes(root):\n",
    "    if root is None:\n",
    "        return 0\n",
    "    return (1 + count_nodes(root.left) + count_nodes(root.right))\n",
    "\n",
    "\n",
    "# Check if the tree is complete binary tree\n",
    "def is_complete(root, index, numberNodes):\n",
    "\n",
    "    # Check if the tree is empty\n",
    "    if root is None:\n",
    "        return True\n",
    "\n",
    "    if index >= numberNodes:\n",
    "        return False\n",
    "\n",
    "    return (is_complete(root.left, 2 * index + 1, numberNodes)\n",
    "            and is_complete(root.right, 2 * index + 2, numberNodes))"
   ]
  },
  {
   "cell_type": "code",
   "execution_count": 9,
   "metadata": {},
   "outputs": [
    {
     "name": "stdout",
     "output_type": "stream",
     "text": [
      "The tree is a complete binary tree\n"
     ]
    }
   ],
   "source": [
    "root = Node(1)\n",
    "root.left = Node(2)\n",
    "root.right = Node(3)\n",
    "root.left.left = Node(4)\n",
    "root.left.right = Node(5)\n",
    "root.right.left = Node(6)\n",
    "\n",
    "node_count = count_nodes(root)\n",
    "index = 0\n",
    "\n",
    "if is_complete(root, index, node_count):\n",
    "    print(\"The tree is a complete binary tree\")\n",
    "else:\n",
    "    print(\"The tree is not a complete binary tree\")"
   ]
  }
 ],
 "metadata": {
  "kernelspec": {
   "display_name": "Python 3",
   "language": "python",
   "name": "python3"
  },
  "language_info": {
   "codemirror_mode": {
    "name": "ipython",
    "version": 3
   },
   "file_extension": ".py",
   "mimetype": "text/x-python",
   "name": "python",
   "nbconvert_exporter": "python",
   "pygments_lexer": "ipython3",
   "version": "3.11.4"
  },
  "orig_nbformat": 4
 },
 "nbformat": 4,
 "nbformat_minor": 2
}
