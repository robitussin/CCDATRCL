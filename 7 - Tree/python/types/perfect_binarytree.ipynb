{
 "cells": [
  {
   "cell_type": "markdown",
   "metadata": {},
   "source": [
    "# Perfect Binary Tree"
   ]
  },
  {
   "cell_type": "markdown",
   "metadata": {},
   "source": [
    "A perfect binary tree is a type of binary tree in which every internal node has exactly two child nodes and all the leaf nodes are at the same level."
   ]
  },
  {
   "cell_type": "markdown",
   "metadata": {},
   "source": [
    "## Implementation"
   ]
  },
  {
   "cell_type": "code",
   "execution_count": 1,
   "metadata": {},
   "outputs": [],
   "source": [
    "class newNode:\n",
    "    def __init__(self, k):\n",
    "        self.key = k\n",
    "        self.right = self.left = None"
   ]
  },
  {
   "cell_type": "code",
   "execution_count": 2,
   "metadata": {},
   "outputs": [
    {
     "name": "stdout",
     "output_type": "stream",
     "text": [
      "The tree is not a perfect binary tree\n"
     ]
    }
   ],
   "source": [
    "# Calculate the depth\n",
    "def calculateDepth(node):\n",
    "    d = 0\n",
    "    while (node is not None):\n",
    "        d += 1\n",
    "        node = node.left\n",
    "    return d\n",
    "\n",
    "\n",
    "# Check if the tree is perfect binary tree\n",
    "def is_perfect(root, d, level=0):\n",
    "\n",
    "    # Check if the tree is empty\n",
    "    if (root is None):\n",
    "        return True\n",
    "\n",
    "    # Check the presence of trees\n",
    "    if (root.left is None and root.right is None):\n",
    "        return (d == level + 1)\n",
    "\n",
    "    if (root.left is None or root.right is None):\n",
    "        return False\n",
    "\n",
    "    return (is_perfect(root.left, d, level + 1) and\n",
    "            is_perfect(root.right, d, level + 1))\n",
    "\n",
    "\n",
    "root = None\n",
    "root = newNode(1)\n",
    "root.left = newNode(2)\n",
    "root.right = newNode(3)\n",
    "root.left.left = newNode(4)\n",
    "root.left.right = newNode(5)\n",
    "\n",
    "if (is_perfect(root, calculateDepth(root))):\n",
    "    print(\"The tree is a perfect binary tree\")\n",
    "else:\n",
    "    print(\"The tree is not a perfect binary tree\")"
   ]
  }
 ],
 "metadata": {
  "kernelspec": {
   "display_name": "Python 3",
   "language": "python",
   "name": "python3"
  },
  "language_info": {
   "codemirror_mode": {
    "name": "ipython",
    "version": 3
   },
   "file_extension": ".py",
   "mimetype": "text/x-python",
   "name": "python",
   "nbconvert_exporter": "python",
   "pygments_lexer": "ipython3",
   "version": "3.11.4"
  },
  "orig_nbformat": 4
 },
 "nbformat": 4,
 "nbformat_minor": 2
}
