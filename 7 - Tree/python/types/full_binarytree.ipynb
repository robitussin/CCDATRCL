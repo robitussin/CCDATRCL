{
 "cells": [
  {
   "cell_type": "markdown",
   "metadata": {},
   "source": [
    "# Full Binary Tree"
   ]
  },
  {
   "cell_type": "markdown",
   "metadata": {},
   "source": [
    "A full Binary tree is a special type of binary tree in which every parent node/internal node has either two or no children."
   ]
  },
  {
   "cell_type": "markdown",
   "metadata": {},
   "source": [
    "## Implementation"
   ]
  },
  {
   "cell_type": "code",
   "execution_count": 1,
   "metadata": {},
   "outputs": [],
   "source": [
    "class Node:\n",
    "\n",
    "    def __init__(self, item):\n",
    "        self.item = item\n",
    "        self.leftChild = None\n",
    "        self.rightChild = None"
   ]
  },
  {
   "cell_type": "code",
   "execution_count": 2,
   "metadata": {},
   "outputs": [],
   "source": [
    "# Checking full binary tree\n",
    "def isFullTree(root):\n",
    "\n",
    "    # Tree empty case\n",
    "    if root is None:\n",
    "        return True\n",
    "\n",
    "    # Checking whether child is present\n",
    "    if root.leftChild is None and root.rightChild is None:\n",
    "        return True\n",
    "\n",
    "    if root.leftChild is not None and root.rightChild is not None:\n",
    "        return (isFullTree(root.leftChild) and isFullTree(root.rightChild))\n",
    "\n",
    "    return False"
   ]
  },
  {
   "cell_type": "code",
   "execution_count": 3,
   "metadata": {},
   "outputs": [
    {
     "name": "stdout",
     "output_type": "stream",
     "text": [
      "The tree is a full binary tree\n"
     ]
    }
   ],
   "source": [
    "root = Node(1)\n",
    "root.rightChild = Node(3)\n",
    "root.leftChild = Node(2)\n",
    "\n",
    "root.leftChild.leftChild = Node(4)\n",
    "root.leftChild.rightChild = Node(5)\n",
    "root.leftChild.rightChild.leftChild = Node(6)\n",
    "root.leftChild.rightChild.rightChild = Node(7)\n",
    "\n",
    "if isFullTree(root):\n",
    "    print(\"The tree is a full binary tree\")\n",
    "else:\n",
    "    print(\"The tree is not a full binary tree\")"
   ]
  }
 ],
 "metadata": {
  "kernelspec": {
   "display_name": "Python 3",
   "language": "python",
   "name": "python3"
  },
  "language_info": {
   "codemirror_mode": {
    "name": "ipython",
    "version": 3
   },
   "file_extension": ".py",
   "mimetype": "text/x-python",
   "name": "python",
   "nbconvert_exporter": "python",
   "pygments_lexer": "ipython3",
   "version": "3.11.4"
  },
  "orig_nbformat": 4
 },
 "nbformat": 4,
 "nbformat_minor": 2
}
