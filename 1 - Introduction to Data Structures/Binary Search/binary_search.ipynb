{
 "cells": [
  {
   "cell_type": "markdown",
   "metadata": {},
   "source": [
    "# Binary Search\n",
    "\n",
    "**Binary Search** is a searching algorithm for finding an element's position in a **sorted array**.\n",
    "\n",
    "In this approach, the element is always searched in the middle of a portion of an array."
   ]
  },
  {
   "cell_type": "code",
   "execution_count": 9,
   "metadata": {},
   "outputs": [],
   "source": [
    "mylist = [0, 4, 7, 10, 14, 23, 45, 47, 53]"
   ]
  },
  {
   "cell_type": "markdown",
   "metadata": {},
   "source": [
    "Let us find 47 in this list\n",
    "\n",
    "Let numberToFind = 47\n"
   ]
  },
  {
   "cell_type": "code",
   "execution_count": 10,
   "metadata": {},
   "outputs": [],
   "source": [
    "numberToFind = 47"
   ]
  },
  {
   "cell_type": "markdown",
   "metadata": {},
   "source": [
    "# Steps\n",
    "\n",
    "1. Set two pointers low and high at the lowest and the highest positions respectively.\n",
    "\n",
    "2. Find the middle element mid of the list using this formula \n",
    "\n",
    "$$\n",
    "middle = (high + low) // 2\n",
    "$$\n",
    "\n",
    "3. If numberToFind == mid, then return middle, else compare the element to be searched with m.\n",
    "\n",
    "4. If numberToFind > mid, compare numberToFind with the middle element of the elements on the right side of mid. This is done by setting low to low = mid + 1.\n",
    "\n",
    "5. Else, compare numberToFind with the middle element of the elements on the left side of mid. This is done by setting high to high = mid - 1\n",
    "\n",
    "6. Repeat steps 2 to 5 until low meets high."
   ]
  },
  {
   "cell_type": "markdown",
   "metadata": {},
   "source": [
    "# Implementation"
   ]
  },
  {
   "cell_type": "code",
   "execution_count": 11,
   "metadata": {},
   "outputs": [],
   "source": [
    "# Binary search\n",
    "def binarySearch(array, numberToFind):\n",
    "    low = 0\n",
    "    high = len(array) - 1\n",
    "    mid = 0\n",
    " \n",
    "    while low <= high:\n",
    " \n",
    "        mid = (high + low) // 2\n",
    " \n",
    "        # If mid is greater, ignore left half\n",
    "        if array[mid] < numberToFind:\n",
    "            low = mid + 1\n",
    " \n",
    "        # If mid is smaller, ignore right half\n",
    "        elif array[mid] > numberToFind:\n",
    "            high = mid - 1\n",
    " \n",
    "        # means x is present at mid\n",
    "        else:\n",
    "            return mid\n",
    " \n",
    "    # If we reach here, then the element was not present\n",
    "    return -1"
   ]
  },
  {
   "cell_type": "markdown",
   "metadata": {},
   "source": [
    "<img src=\"binary_search.gif\" style=\"max-width: 600px;\"/>"
   ]
  },
  {
   "cell_type": "code",
   "execution_count": 12,
   "metadata": {},
   "outputs": [
    {
     "ename": "NameError",
     "evalue": "name 'arr' is not defined",
     "output_type": "error",
     "traceback": [
      "\u001b[0;31m---------------------------------------------------------------------------\u001b[0m",
      "\u001b[0;31mNameError\u001b[0m                                 Traceback (most recent call last)",
      "Cell \u001b[0;32mIn[12], line 1\u001b[0m\n\u001b[0;32m----> 1\u001b[0m result \u001b[39m=\u001b[39m binarySearch(mylist, numberToFind)\n\u001b[1;32m      3\u001b[0m \u001b[39mif\u001b[39;00m result \u001b[39m!=\u001b[39m \u001b[39m-\u001b[39m\u001b[39m1\u001b[39m:\n\u001b[1;32m      4\u001b[0m     \u001b[39mprint\u001b[39m(\u001b[39m\"\u001b[39m\u001b[39mElement is present at index \u001b[39m\u001b[39m\"\u001b[39m \u001b[39m+\u001b[39m \u001b[39mstr\u001b[39m(result))\n",
      "Cell \u001b[0;32mIn[11], line 4\u001b[0m, in \u001b[0;36mbinarySearch\u001b[0;34m(array, numberToFind)\u001b[0m\n\u001b[1;32m      2\u001b[0m \u001b[39mdef\u001b[39;00m \u001b[39mbinarySearch\u001b[39m(array, numberToFind):\n\u001b[1;32m      3\u001b[0m     low \u001b[39m=\u001b[39m \u001b[39m0\u001b[39m\n\u001b[0;32m----> 4\u001b[0m     high \u001b[39m=\u001b[39m \u001b[39mlen\u001b[39m(arr) \u001b[39m-\u001b[39m \u001b[39m1\u001b[39m\n\u001b[1;32m      5\u001b[0m     mid \u001b[39m=\u001b[39m \u001b[39m0\u001b[39m\n\u001b[1;32m      7\u001b[0m     \u001b[39mwhile\u001b[39;00m low \u001b[39m<\u001b[39m\u001b[39m=\u001b[39m high:\n",
      "\u001b[0;31mNameError\u001b[0m: name 'arr' is not defined"
     ]
    }
   ],
   "source": [
    "result = binarySearch(mylist, numberToFind)\n",
    "\n",
    "if result != -1:\n",
    "    print(\"Element is present at index \" + str(result))\n",
    "else:\n",
    "    print(\"Not found\")\n"
   ]
  },
  {
   "cell_type": "markdown",
   "metadata": {},
   "source": [
    "# Time Complexity of using Binary Search"
   ]
  },
  {
   "cell_type": "markdown",
   "metadata": {},
   "source": [
    "Best case complexity: $\\large O(1)$\n",
    "\n",
    "Average case complexity:  $\\large O(log n) $\n",
    "\n",
    "Worst case complexity: $\\large O(log n) $\n"
   ]
  }
 ],
 "metadata": {
  "kernelspec": {
   "display_name": "Python 3",
   "language": "python",
   "name": "python3"
  },
  "language_info": {
   "codemirror_mode": {
    "name": "ipython",
    "version": 3
   },
   "file_extension": ".py",
   "mimetype": "text/x-python",
   "name": "python",
   "nbconvert_exporter": "python",
   "pygments_lexer": "ipython3",
   "version": "3.11.4"
  },
  "orig_nbformat": 4
 },
 "nbformat": 4,
 "nbformat_minor": 2
}
