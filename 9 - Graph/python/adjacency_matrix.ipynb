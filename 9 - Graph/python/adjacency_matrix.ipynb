{
 "cells": [
  {
   "cell_type": "markdown",
   "metadata": {},
   "source": [
    "# Adjacency Matrix"
   ]
  },
  {
   "cell_type": "markdown",
   "metadata": {},
   "source": [
    "An adjacency matrix is a way of representing a graph as a matrix of booleans (0's and 1's). A finite graph can be represented in the form of a square matrix on a computer, where the boolean value of the matrix indicates if there is a direct path between two vertices."
   ]
  },
  {
   "cell_type": "code",
   "execution_count": 1,
   "metadata": {},
   "outputs": [],
   "source": [
    "# Add a vertex to the set of vertices and the graph\n",
    "def add_vertex(v):\n",
    "  global graph\n",
    "  global vertices_no\n",
    "  global vertices\n",
    "  if v in vertices:\n",
    "    print(\"Vertex \", v, \" already exists\")\n",
    "  else:\n",
    "    vertices_no = vertices_no + 1\n",
    "    vertices.append(v)\n",
    "    if vertices_no > 1:\n",
    "        for vertex in graph:\n",
    "            vertex.append(0)\n",
    "    temp = []\n",
    "    for i in range(vertices_no):\n",
    "        temp.append(0)\n",
    "    graph.append(temp)\n",
    "\n",
    "# Add an edge between vertex v1 and v2 with edge weight e\n",
    "\n",
    "\n",
    "def add_edge(v1, v2, e):\n",
    "    global graph\n",
    "    global vertices_no\n",
    "    global vertices\n",
    "    # Check if vertex v1 is a valid vertex\n",
    "    if v1 not in vertices:\n",
    "        print(\"Vertex \", v1, \" does not exist.\")\n",
    "    # Check if vertex v1 is a valid vertex\n",
    "    elif v2 not in vertices:\n",
    "        print(\"Vertex \", v2, \" does not exist.\")\n",
    "    # Since this code is not restricted to a directed or\n",
    "    # an undirected graph, an edge between v1 v2 does not\n",
    "    # imply that an edge exists between v2 and v1\n",
    "    else:\n",
    "        index1 = vertices.index(v1)\n",
    "        index2 = vertices.index(v2)\n",
    "        graph[index1][index2] = e\n",
    "\n",
    "# Print the graph\n",
    "\n",
    "\n",
    "def print_graph():\n",
    "  global graph\n",
    "  global vertices_no\n",
    "  for i in range(vertices_no):\n",
    "    for j in range(vertices_no):\n",
    "      if graph[i][j] != 0:\n",
    "        print(vertices[i], \" -> \", vertices[j],\n",
    "              \" edge weight: \", graph[i][j])"
   ]
  },
  {
   "cell_type": "markdown",
   "metadata": {},
   "source": [
    "<img src=\"adjacency-graph.png\"/>"
   ]
  },
  {
   "cell_type": "code",
   "execution_count": 2,
   "metadata": {},
   "outputs": [
    {
     "name": "stdout",
     "output_type": "stream",
     "text": [
      "0  ->  1  edge weight:  1\n",
      "0  ->  2  edge weight:  1\n",
      "0  ->  3  edge weight:  1\n",
      "1  ->  0  edge weight:  1\n",
      "1  ->  2  edge weight:  1\n",
      "2  ->  0  edge weight:  1\n",
      "2  ->  1  edge weight:  1\n",
      "3  ->  0  edge weight:  1\n",
      "Internal representation:  [[0, 1, 1, 1], [1, 0, 1, 0], [1, 1, 0, 0], [1, 0, 0, 0]]\n"
     ]
    }
   ],
   "source": [
    "\n",
    "# Driver code\n",
    "# stores the vertices in the graph\n",
    "vertices = []\n",
    "# stores the number of vertices in the graph\n",
    "vertices_no = 0\n",
    "graph = []\n",
    "# Add vertices to the graph\n",
    "add_vertex(0)\n",
    "add_vertex(1)\n",
    "add_vertex(2)\n",
    "add_vertex(3)\n",
    "# Add the edges between the vertices by specifying\n",
    "# the from and to vertex along with the edge weights.\n",
    "add_edge(0, 1, 1)\n",
    "add_edge(0, 2, 1)\n",
    "add_edge(0, 3, 1)\n",
    "add_edge(1, 0, 1)\n",
    "add_edge(1, 2, 1)\n",
    "add_edge(2, 0, 1)\n",
    "add_edge(2, 1, 1)\n",
    "add_edge(3, 0, 1)\n",
    "\n",
    "print_graph()\n",
    "print(\"Internal representation: \", graph)\n"
   ]
  },
  {
   "cell_type": "markdown",
   "metadata": {},
   "source": [
    "<img src=\"adjacency-matrix.png\"/>"
   ]
  }
 ],
 "metadata": {
  "kernelspec": {
   "display_name": "base",
   "language": "python",
   "name": "python3"
  },
  "language_info": {
   "codemirror_mode": {
    "name": "ipython",
    "version": 3
   },
   "file_extension": ".py",
   "mimetype": "text/x-python",
   "name": "python",
   "nbconvert_exporter": "python",
   "pygments_lexer": "ipython3",
   "version": "3.10.9"
  }
 },
 "nbformat": 4,
 "nbformat_minor": 2
}
