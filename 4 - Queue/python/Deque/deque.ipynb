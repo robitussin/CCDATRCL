{
 "cells": [
  {
   "cell_type": "markdown",
   "metadata": {},
   "source": [
    "# Deque"
   ]
  },
  {
   "cell_type": "markdown",
   "metadata": {},
   "source": [
    "Deque or Double Ended Queue is a type of queue in which insertion and removal of elements can either be performed from the  **front** or the **rear**.  \n",
    "\n",
    "It does not follow **FIFO rule (First In First Out)**."
   ]
  },
  {
   "cell_type": "markdown",
   "metadata": {},
   "source": [
    "<img src=\"deque.webp\" />"
   ]
  },
  {
   "cell_type": "markdown",
   "metadata": {},
   "source": [
    "## Implementation"
   ]
  },
  {
   "cell_type": "code",
   "execution_count": 44,
   "metadata": {},
   "outputs": [],
   "source": [
    "class Deque:\n",
    "    def __init__(self):\n",
    "        self.items = []\n",
    "\n",
    "    def isEmpty(self):\n",
    "        return self.items == []\n",
    "\n",
    "    def addRear(self, item):\n",
    "        self.items.append(item)\n",
    "\n",
    "    def addFront(self, item):\n",
    "        self.items.insert(0, item)\n",
    "\n",
    "    def removeFront(self):\n",
    "        return self.items.pop(0)\n",
    "\n",
    "    def removeRear(self):\n",
    "        return self.items.pop()\n",
    "\n",
    "    def size(self):\n",
    "        return len(self.items)"
   ]
  },
  {
   "cell_type": "markdown",
   "metadata": {},
   "source": [
    "## Create a new instance"
   ]
  },
  {
   "cell_type": "code",
   "execution_count": 45,
   "metadata": {},
   "outputs": [],
   "source": [
    "mydeque = Deque()"
   ]
  },
  {
   "cell_type": "markdown",
   "metadata": {},
   "source": [
    "## Insert new items at the **front** or the **rear**"
   ]
  },
  {
   "cell_type": "code",
   "execution_count": 46,
   "metadata": {},
   "outputs": [
    {
     "name": "stdout",
     "output_type": "stream",
     "text": [
      "['Dhan', 'Robbie', 'Diana']\n"
     ]
    }
   ],
   "source": [
    "mydeque.addFront(\"Dhan\")\n",
    "mydeque.addRear(\"Robbie\")\n",
    "mydeque.addRear(\"Diana\")\n",
    "print(mydeque.items)"
   ]
  },
  {
   "cell_type": "markdown",
   "metadata": {},
   "source": [
    "**Initial queue**\n",
    "\n",
    "| 0 | 1 | 2 \n",
    "| --- | --- | --- |\n",
    "| Dhan | Robbie | Diana "
   ]
  },
  {
   "cell_type": "code",
   "execution_count": 47,
   "metadata": {},
   "outputs": [
    {
     "name": "stdout",
     "output_type": "stream",
     "text": [
      "['Bea', 'Dhan', 'Robbie', 'Diana', 'Iber']\n"
     ]
    }
   ],
   "source": [
    "mydeque.addFront(\"Bea\")\n",
    "mydeque.addRear(\"Iber\")\n",
    "print(mydeque.items)"
   ]
  },
  {
   "cell_type": "markdown",
   "metadata": {},
   "source": [
    "**New queue**\n",
    "\n",
    "| 0 | 1 | 2 | 3 | 4 | \n",
    "| --- | --- | --- | --- | --- | \n",
    "| Bea | Dhan | Robbie | Diana | Iber "
   ]
  },
  {
   "cell_type": "markdown",
   "metadata": {},
   "source": [
    "## Remove items at the **front** or the **rear**"
   ]
  },
  {
   "cell_type": "code",
   "execution_count": 48,
   "metadata": {},
   "outputs": [
    {
     "name": "stdout",
     "output_type": "stream",
     "text": [
      "Iber\n",
      "Bea\n",
      "['Dhan', 'Robbie', 'Diana']\n"
     ]
    }
   ],
   "source": [
    "print(mydeque.removeRear())\n",
    "print(mydeque.removeFront())\n",
    "print(mydeque.items)\n"
   ]
  },
  {
   "cell_type": "markdown",
   "metadata": {},
   "source": [
    "**Final queue**\n",
    "\n",
    "| 0 | 1 | 2 \n",
    "| --- | --- | --- |\n",
    "| Dhan | Robbie | Diana "
   ]
  }
 ],
 "metadata": {
  "kernelspec": {
   "display_name": "Python 3",
   "language": "python",
   "name": "python3"
  },
  "language_info": {
   "codemirror_mode": {
    "name": "ipython",
    "version": 3
   },
   "file_extension": ".py",
   "mimetype": "text/x-python",
   "name": "python",
   "nbconvert_exporter": "python",
   "pygments_lexer": "ipython3",
   "version": "3.9.13"
  },
  "orig_nbformat": 4
 },
 "nbformat": 4,
 "nbformat_minor": 2
}
