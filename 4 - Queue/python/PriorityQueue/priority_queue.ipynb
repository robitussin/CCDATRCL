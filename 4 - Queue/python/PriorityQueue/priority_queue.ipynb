{
 "cells": [
  {
   "cell_type": "markdown",
   "metadata": {},
   "source": [
    "# Priority Queue\n",
    "A priority queue is a special type of queue in which each element is associated with a priority value. "
   ]
  },
  {
   "cell_type": "markdown",
   "metadata": {},
   "source": [
    "| Element | Priority |\n",
    "| --- | --- | \n",
    "| Bea | 0 |\n",
    "| Iber | 1 | \n",
    "| Diana | 2 | \n",
    "| Robbie | 3 | \n",
    "| Allen | 4 |\n",
    "\n",
    "\n",
    "\n"
   ]
  },
  {
   "cell_type": "markdown",
   "metadata": {},
   "source": [
    "Elements are served on the basis of their priority. That is, higher priority elements are served first.\n",
    "\n",
    "| Element | Priority | Priority level\n",
    "| --- | --- | --- |\n",
    "| Bea | 0 | **Highest**\n",
    "| Iber | 1 | \n",
    "| Diana | 2 | \n",
    "| Robbie | 3 | \n",
    "| Allen | 4 | **Lowest**\n"
   ]
  },
  {
   "cell_type": "markdown",
   "metadata": {},
   "source": [
    "If elements with the same priority occur, they are served according to their order in the queue.\n",
    "\n",
    "| Element | Priority | Priority level\n",
    "| --- | --- | --- |\n",
    "| Bea | 0 | **Highest**\n",
    "| Dhan | 0 |\n",
    "| Iber | 1 | \n",
    "| Diana | 2 | \n",
    "| Robbie | 3 | \n",
    "| Allen | 4 | **Lowest**"
   ]
  },
  {
   "cell_type": "markdown",
   "metadata": {},
   "source": [
    "## Implementation"
   ]
  },
  {
   "cell_type": "code",
   "execution_count": 49,
   "metadata": {},
   "outputs": [],
   "source": [
    "class PriorityQueueNode:\n",
    "    def __init__(self, value, pr):\n",
    "\n",
    "        self.data = value\n",
    "        self.priority = pr\n",
    "        self.next = None"
   ]
  },
  {
   "cell_type": "code",
   "execution_count": 50,
   "metadata": {},
   "outputs": [],
   "source": [
    "class PriorityQueue:\n",
    "\n",
    "\tdef __init__(self):\n",
    "\n",
    "\t\tself.front = None\n",
    "\n",
    "\t# Method to check Priority Queue is Empty\n",
    "\t# or not if Empty then it will return True\n",
    "\t# Otherwise False\n",
    "\tdef isEmpty(self):\n",
    "\n",
    "\t\treturn True if self.front == None else False\n",
    "\n",
    "\t# Method to add items in Priority Queue\n",
    "\t# According to their priority value\n",
    "\tdef push(self, value, priority):\n",
    "\n",
    "\t\t# Condition check for checking Priority\n",
    "\t\t# Queue is empty or not\n",
    "\t\tif self.isEmpty() == True:\n",
    "\n",
    "\t\t\t# Creating a new node and assigning\n",
    "\t\t\t# it to class variable\n",
    "\t\t\tself.front = PriorityQueueNode(value, priority)\n",
    "\n",
    "\t\t\t# Returning 1 for successful execution\n",
    "\t\t\treturn 1\n",
    "\n",
    "\t\telse:\n",
    "      \n",
    "\t\t\t# Special condition check to see that\n",
    "\t\t\t# first node priority value\n",
    "\t\t\tif self.front.priority > priority:\n",
    "\t\t\t\t# Creating a new node\n",
    "\t\t\t\tnewNode = PriorityQueueNode(value, priority)\n",
    "\t\t\t\t# Updating the new node next value\n",
    "\t\t\t\tnewNode.next = self.front\n",
    "\n",
    "\t\t\t\t# Assigning it to self.front\n",
    "\t\t\t\tself.front = newNode\n",
    "\n",
    "\t\t\t\t# Returning 1 for successful execution\n",
    "\t\t\t\treturn 1\n",
    "\n",
    "\t\t\telse:\n",
    "\n",
    "\t\t\t\t# Traversing through Queue until it\n",
    "\t\t\t\t# finds the next smaller priority node\n",
    "\t\t\t\ttemp = self.front\n",
    "\n",
    "\t\t\t\twhile temp.next:\n",
    "\t\t\t\t\t# If same priority node found then current\n",
    "\t\t\t\t\t# node will come after previous node\n",
    "\t\t\t\t\tif priority <= temp.next.priority:\n",
    "\t\t\t\t\t\tbreak\n",
    "\n",
    "\t\t\t\t\ttemp = temp.next\n",
    "\n",
    "\t\t\t\tnewNode = PriorityQueueNode(value, priority)\n",
    "\t\t\t\tnewNode.next = temp.next\n",
    "\t\t\t\ttemp.next = newNode\n",
    "\n",
    "\t\t\t\t# Returning 1 for successful execution\n",
    "\t\t\t\treturn 1\n",
    "\n",
    "\t# Method to remove high priority item\n",
    "\t# from the Priority Queue\n",
    "\tdef pop(self):\n",
    "\n",
    "\t\t# Condition check for checking\n",
    "\t\t# Priority Queue is empty or not\n",
    "\t\tif self.isEmpty() == True:\n",
    "\t\t\treturn\n",
    "\t\telse:\n",
    "\t\t\t# Removing high priority node from\n",
    "\t\t\t# Priority Queue, and updating front\n",
    "\t\t\t# with next node\n",
    "\t\t\tself.front = self.front.next\n",
    "\t\t\treturn 1\n",
    "\n",
    "\t# Method to return high priority node\n",
    "\t# value Not removing it\n",
    "\tdef peek(self):\n",
    "\t\t# Condition check for checking Priority\n",
    "\t\t# Queue is empty or not\n",
    "\t\tif self.isEmpty() == True:\n",
    "\t\t\treturn\n",
    "\t\telse:\n",
    "\t\t\treturn self.front.data\n",
    "\n",
    "\t# Method to Traverse through Priority\n",
    "\t# Queue\n",
    "\tdef traverse(self):\n",
    "\t\t# Condition check for checking Priority\n",
    "\t\t# Queue is empty or not\n",
    "\t\tif self.isEmpty() == True:\n",
    "\t\t\treturn \"Queue is Empty!\"\n",
    "\t\telse:\n",
    "\t\t\ttemp = self.front\n",
    "\t\t\twhile temp:\n",
    "\t\t\t\tprint(temp.data, end=\" \")\n",
    "\t\t\t\ttemp = temp.next"
   ]
  },
  {
   "cell_type": "markdown",
   "metadata": {},
   "source": [
    "## Step 1: Create a new instance"
   ]
  },
  {
   "cell_type": "code",
   "execution_count": 51,
   "metadata": {},
   "outputs": [],
   "source": [
    "pq = PriorityQueue()"
   ]
  },
  {
   "cell_type": "markdown",
   "metadata": {},
   "source": [
    "## Step 2: Push new elements with their associated priority value"
   ]
  },
  {
   "cell_type": "code",
   "execution_count": 52,
   "metadata": {},
   "outputs": [
    {
     "data": {
      "text/plain": [
       "1"
      ]
     },
     "execution_count": 52,
     "metadata": {},
     "output_type": "execute_result"
    }
   ],
   "source": [
    "pq.push(\"Bea\", 0)\n",
    "pq.push(\"Dhan\", 0)\n",
    "pq.push(\"Iber\", 1)\n",
    "pq.push(\"Diana\", 2)\n",
    "pq.push(\"Robbie\", 3)\n",
    "pq.push(\"Allen\", 4)"
   ]
  },
  {
   "cell_type": "markdown",
   "metadata": {},
   "source": [
    "**Initial priority queue**\n",
    "\n",
    "| Element | Priority |\n",
    "| --- | --- | \n",
    "| Bea | 0 |\n",
    "| Dhan | 0 |\n",
    "| Robbie | 1 | \n",
    "| Diana | 2 | \n",
    "| Iber | 3 | \n",
    "| Allen | 4 |"
   ]
  },
  {
   "cell_type": "code",
   "execution_count": 53,
   "metadata": {},
   "outputs": [
    {
     "name": "stdout",
     "output_type": "stream",
     "text": [
      "Bea Dhan Iber Diana Robbie Allen "
     ]
    }
   ],
   "source": [
    "# Traversing through Priority Queue\n",
    "pq.traverse()"
   ]
  },
  {
   "cell_type": "code",
   "execution_count": 54,
   "metadata": {},
   "outputs": [
    {
     "data": {
      "text/plain": [
       "1"
      ]
     },
     "execution_count": 54,
     "metadata": {},
     "output_type": "execute_result"
    }
   ],
   "source": [
    "# Removing highest Priority item\n",
    "# for priority queue\n",
    "pq.pop()"
   ]
  },
  {
   "cell_type": "code",
   "execution_count": 55,
   "metadata": {},
   "outputs": [
    {
     "name": "stdout",
     "output_type": "stream",
     "text": [
      "Dhan Iber Diana Robbie Allen "
     ]
    }
   ],
   "source": [
    "# Traversing through Priority Queue\n",
    "pq.traverse()"
   ]
  },
  {
   "cell_type": "markdown",
   "metadata": {},
   "source": [
    "**Final priority queue**\n",
    "\n",
    "| Element | Priority |\n",
    "| --- | --- | \n",
    "| Dhan | 0 |\n",
    "| Allen | 0 |\n",
    "| Robbie | 1 | \n",
    "| Diana | 2 | \n",
    "| Iber | 3 | "
   ]
  }
 ],
 "metadata": {
  "kernelspec": {
   "display_name": "Python 3",
   "language": "python",
   "name": "python3"
  },
  "language_info": {
   "codemirror_mode": {
    "name": "ipython",
    "version": 3
   },
   "file_extension": ".py",
   "mimetype": "text/x-python",
   "name": "python",
   "nbconvert_exporter": "python",
   "pygments_lexer": "ipython3",
   "version": "3.9.13"
  },
  "orig_nbformat": 4
 },
 "nbformat": 4,
 "nbformat_minor": 2
}
