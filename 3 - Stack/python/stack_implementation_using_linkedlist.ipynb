{
 "cells": [
  {
   "cell_type": "markdown",
   "metadata": {},
   "source": [
    "# Implementation of a stack using singly linked list"
   ]
  },
  {
   "cell_type": "code",
   "execution_count": 34,
   "metadata": {},
   "outputs": [],
   "source": [
    "class Node:\n",
    "\n",
    "\tdef __init__(self, data):\n",
    "\t\tself.data = data\n",
    "\t\tself.next = None"
   ]
  },
  {
   "cell_type": "code",
   "execution_count": 35,
   "metadata": {},
   "outputs": [],
   "source": [
    "class Stack:\n",
    "\n",
    "\t# head is default NULL\n",
    "\tdef __init__(self):\n",
    "\t\tself.head = None\n",
    "\n",
    "\t# Checks if stack is empty\n",
    "\tdef isempty(self):\n",
    "\t\tif self.head == None:\n",
    "\t\t\treturn True\n",
    "\t\telse:\n",
    "\t\t\treturn False\n",
    "\n",
    "\t# Method to add data to the stack\n",
    "\t# adds to the start of the stack\n",
    "\tdef push(self, data):\n",
    "\n",
    "\t\tif self.head == None:\n",
    "\t\t\tself.head = Node(data)\n",
    "\n",
    "\t\telse:\n",
    "\t\t\tnewnode = Node(data)\n",
    "\t\t\tnewnode.next = self.head\n",
    "\t\t\tself.head = newnode\n",
    "\n",
    "\t# Remove element that is the current head (start of the stack)\n",
    "\tdef pop(self):\n",
    "\n",
    "\t\tif self.isempty():\n",
    "\t\t\treturn None\n",
    "\n",
    "\t\telse:\n",
    "\t\t\t# Removes the head node and makes\n",
    "\t\t\t# the preceding one the new head\n",
    "\t\t\tpoppednode = self.head\n",
    "\t\t\tself.head = self.head.next\n",
    "\t\t\tpoppednode.next = None\n",
    "\t\t\treturn poppednode.data\n",
    "\n",
    "\t# Returns the head node data\n",
    "\tdef peek(self):\n",
    "\n",
    "\t\tif self.isempty():\n",
    "\t\t\treturn None\n",
    "\n",
    "\t\telse:\n",
    "\t\t\treturn self.head.data\n",
    "\n",
    "\t# Prints out the stack\n",
    "\tdef display(self):\n",
    "\n",
    "\t\titernode = self.head\n",
    "\t\tif self.isempty():\n",
    "\t\t\tprint(\"Stack Underflow\")\n",
    "\n",
    "\t\telse:\n",
    "\n",
    "\t\t\twhile(iternode != None):\n",
    "\n",
    "\t\t\t\tprint(iternode.data, end = \"\")\n",
    "\t\t\t\titernode = iternode.next\n",
    "\t\t\t\tif(iternode != None):\n",
    "\t\t\t\t\tprint(\" -> \", end = \"\")\n",
    "\t\t\treturn"
   ]
  },
  {
   "cell_type": "markdown",
   "metadata": {},
   "source": [
    "### Create an instance"
   ]
  },
  {
   "cell_type": "code",
   "execution_count": 36,
   "metadata": {},
   "outputs": [],
   "source": [
    "MyStack = Stack()"
   ]
  },
  {
   "cell_type": "markdown",
   "metadata": {},
   "source": [
    "## Operations"
   ]
  },
  {
   "cell_type": "markdown",
   "metadata": {},
   "source": [
    "### 1. Push"
   ]
  },
  {
   "cell_type": "code",
   "execution_count": 37,
   "metadata": {},
   "outputs": [],
   "source": [
    "MyStack.push(11)\n",
    "MyStack.push(22)\n",
    "MyStack.push(33)\n",
    "MyStack.push(44)"
   ]
  },
  {
   "cell_type": "code",
   "execution_count": 38,
   "metadata": {},
   "outputs": [
    {
     "name": "stdout",
     "output_type": "stream",
     "text": [
      "44 -> 33 -> 22 -> 11"
     ]
    }
   ],
   "source": [
    "# Display stack elements\n",
    "MyStack.display()"
   ]
  },
  {
   "cell_type": "markdown",
   "metadata": {},
   "source": [
    "### 2. Peek"
   ]
  },
  {
   "cell_type": "code",
   "execution_count": 39,
   "metadata": {},
   "outputs": [
    {
     "name": "stdout",
     "output_type": "stream",
     "text": [
      "\n",
      "Top element is  44\n"
     ]
    }
   ],
   "source": [
    "# Print top element of stack\n",
    "print(\"\\nTop element is \", MyStack.peek())"
   ]
  },
  {
   "cell_type": "markdown",
   "metadata": {},
   "source": [
    "### 3. Pop"
   ]
  },
  {
   "cell_type": "code",
   "execution_count": 40,
   "metadata": {},
   "outputs": [
    {
     "data": {
      "text/plain": [
       "33"
      ]
     },
     "execution_count": 40,
     "metadata": {},
     "output_type": "execute_result"
    }
   ],
   "source": [
    "# Delete top elements of stack\n",
    "MyStack.pop()\n",
    "MyStack.pop()"
   ]
  },
  {
   "cell_type": "code",
   "execution_count": 41,
   "metadata": {},
   "outputs": [
    {
     "name": "stdout",
     "output_type": "stream",
     "text": [
      "22 -> 11"
     ]
    }
   ],
   "source": [
    "# Display stack elements\n",
    "MyStack.display()"
   ]
  },
  {
   "cell_type": "code",
   "execution_count": 42,
   "metadata": {},
   "outputs": [
    {
     "name": "stdout",
     "output_type": "stream",
     "text": [
      "\n",
      "Top element is  22\n"
     ]
    }
   ],
   "source": [
    "# Print top element of stack\n",
    "print(\"\\nTop element is \", MyStack.peek())"
   ]
  }
 ],
 "metadata": {
  "kernelspec": {
   "display_name": "Python 3",
   "language": "python",
   "name": "python3"
  },
  "language_info": {
   "codemirror_mode": {
    "name": "ipython",
    "version": 3
   },
   "file_extension": ".py",
   "mimetype": "text/x-python",
   "name": "python",
   "nbconvert_exporter": "python",
   "pygments_lexer": "ipython3",
   "version": "3.11.4"
  },
  "orig_nbformat": 4
 },
 "nbformat": 4,
 "nbformat_minor": 2
}
